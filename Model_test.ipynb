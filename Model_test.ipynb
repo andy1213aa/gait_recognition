{
 "cells": [
  {
   "cell_type": "code",
   "execution_count": 2,
   "id": "e824e437",
   "metadata": {},
   "outputs": [],
   "source": [
    "import tensorflow as tf\n",
    "import cv2\n",
    "import random\n",
    "import numpy as np\n",
    "import tensorflow_triplet_loss.model.triplet_loss as triplet_loss"
   ]
  },
  {
   "cell_type": "code",
   "execution_count": 3,
   "id": "a5554c33",
   "metadata": {},
   "outputs": [
    {
     "name": "stderr",
     "output_type": "stream",
     "text": [
      "2022-06-20 15:31:18.009520: I tensorflow/stream_executor/cuda/cuda_gpu_executor.cc:975] successful NUMA node read from SysFS had negative value (-1), but there must be at least one NUMA node, so returning NUMA node zero\n",
      "2022-06-20 15:31:18.009648: I tensorflow/stream_executor/cuda/cuda_gpu_executor.cc:975] successful NUMA node read from SysFS had negative value (-1), but there must be at least one NUMA node, so returning NUMA node zero\n",
      "2022-06-20 15:31:18.024559: I tensorflow/stream_executor/cuda/cuda_gpu_executor.cc:975] successful NUMA node read from SysFS had negative value (-1), but there must be at least one NUMA node, so returning NUMA node zero\n",
      "2022-06-20 15:31:18.024657: I tensorflow/stream_executor/cuda/cuda_gpu_executor.cc:975] successful NUMA node read from SysFS had negative value (-1), but there must be at least one NUMA node, so returning NUMA node zero\n",
      "2022-06-20 15:31:18.024718: I tensorflow/stream_executor/cuda/cuda_gpu_executor.cc:975] successful NUMA node read from SysFS had negative value (-1), but there must be at least one NUMA node, so returning NUMA node zero\n",
      "2022-06-20 15:31:18.024772: I tensorflow/stream_executor/cuda/cuda_gpu_executor.cc:975] successful NUMA node read from SysFS had negative value (-1), but there must be at least one NUMA node, so returning NUMA node zero\n",
      "2022-06-20 15:31:18.025350: I tensorflow/core/platform/cpu_feature_guard.cc:193] This TensorFlow binary is optimized with oneAPI Deep Neural Network Library (oneDNN) to use the following CPU instructions in performance-critical operations:  AVX2 AVX_VNNI FMA\n",
      "To enable them in other operations, rebuild TensorFlow with the appropriate compiler flags.\n",
      "2022-06-20 15:31:18.135624: I tensorflow/stream_executor/cuda/cuda_gpu_executor.cc:975] successful NUMA node read from SysFS had negative value (-1), but there must be at least one NUMA node, so returning NUMA node zero\n",
      "2022-06-20 15:31:18.135740: I tensorflow/stream_executor/cuda/cuda_gpu_executor.cc:975] successful NUMA node read from SysFS had negative value (-1), but there must be at least one NUMA node, so returning NUMA node zero\n",
      "2022-06-20 15:31:18.135808: I tensorflow/stream_executor/cuda/cuda_gpu_executor.cc:975] successful NUMA node read from SysFS had negative value (-1), but there must be at least one NUMA node, so returning NUMA node zero\n",
      "2022-06-20 15:31:18.135864: I tensorflow/stream_executor/cuda/cuda_gpu_executor.cc:975] successful NUMA node read from SysFS had negative value (-1), but there must be at least one NUMA node, so returning NUMA node zero\n",
      "2022-06-20 15:31:18.135926: I tensorflow/stream_executor/cuda/cuda_gpu_executor.cc:975] successful NUMA node read from SysFS had negative value (-1), but there must be at least one NUMA node, so returning NUMA node zero\n",
      "2022-06-20 15:31:18.135983: I tensorflow/stream_executor/cuda/cuda_gpu_executor.cc:975] successful NUMA node read from SysFS had negative value (-1), but there must be at least one NUMA node, so returning NUMA node zero\n",
      "2022-06-20 15:31:18.686728: I tensorflow/stream_executor/cuda/cuda_gpu_executor.cc:975] successful NUMA node read from SysFS had negative value (-1), but there must be at least one NUMA node, so returning NUMA node zero\n",
      "2022-06-20 15:31:18.686885: I tensorflow/stream_executor/cuda/cuda_gpu_executor.cc:975] successful NUMA node read from SysFS had negative value (-1), but there must be at least one NUMA node, so returning NUMA node zero\n",
      "2022-06-20 15:31:18.686953: I tensorflow/stream_executor/cuda/cuda_gpu_executor.cc:975] successful NUMA node read from SysFS had negative value (-1), but there must be at least one NUMA node, so returning NUMA node zero\n",
      "2022-06-20 15:31:18.687015: I tensorflow/stream_executor/cuda/cuda_gpu_executor.cc:975] successful NUMA node read from SysFS had negative value (-1), but there must be at least one NUMA node, so returning NUMA node zero\n",
      "2022-06-20 15:31:18.687069: I tensorflow/stream_executor/cuda/cuda_gpu_executor.cc:975] successful NUMA node read from SysFS had negative value (-1), but there must be at least one NUMA node, so returning NUMA node zero\n",
      "2022-06-20 15:31:18.687602: I tensorflow/core/common_runtime/gpu/gpu_device.cc:1532] Created device /job:localhost/replica:0/task:0/device:GPU:0 with 5349 MB memory:  -> device: 0, name: NVIDIA GeForce RTX 3070 Ti, pci bus id: 0000:01:00.0, compute capability: 8.6\n",
      "2022-06-20 15:31:18.687890: I tensorflow/stream_executor/cuda/cuda_gpu_executor.cc:975] successful NUMA node read from SysFS had negative value (-1), but there must be at least one NUMA node, so returning NUMA node zero\n",
      "2022-06-20 15:31:18.687964: I tensorflow/core/common_runtime/gpu/gpu_device.cc:1532] Created device /job:localhost/replica:0/task:0/device:GPU:1 with 6048 MB memory:  -> device: 1, name: NVIDIA GeForce RTX 3070 Ti, pci bus id: 0000:05:00.0, compute capability: 8.6\n"
     ]
    },
    {
     "name": "stdout",
     "output_type": "stream",
     "text": [
      "WARNING:tensorflow:No training configuration found in save file, so the model was *not* compiled. Compile it manually.\n"
     ]
    }
   ],
   "source": [
    "mode = 'gait_recognition'\n",
    "date = '2022_6_20_15_22'\n",
    "model = tf.keras.models.load_model(f'/home/aaron/Desktop/Aaron/College-level_Applied_Research/gait_log/{mode}/{date}/GaitNet/trained_ckpt')"
   ]
  },
  {
   "cell_type": "code",
   "execution_count": 17,
   "id": "b2cc58f0",
   "metadata": {
    "scrolled": false
   },
   "outputs": [
    {
     "name": "stderr",
     "output_type": "stream",
     "text": [
      "[ WARN:0@1855.403] global /io/opencv/modules/imgcodecs/src/loadsave.cpp (239) findDecoder imread_('/home/aaron/Desktop/Aaron/College-level_Applied_Research/GEI/090-00/01761.png'): can't open/read file: check file path/integrity\n",
      "[ WARN:0@1855.403] global /io/opencv/modules/imgcodecs/src/loadsave.cpp (239) findDecoder imread_('/home/aaron/Desktop/Aaron/College-level_Applied_Research/GEI/090-00/07906.png'): can't open/read file: check file path/integrity\n"
     ]
    }
   ],
   "source": [
    "file_names = [str(random.randint(1, 10308)).zfill(5) for i in range(64)]\n",
    "image_list = np.zeros((64, 128, 88, 3))\n",
    "\n",
    "for i, name in enumerate(file_names):\n",
    "    img = cv2.imread(f'/home/aaron/Desktop/Aaron/College-level_Applied_Research/GEI/090-00/{name}.png')\n",
    "    image_list[i] = img"
   ]
  },
  {
   "cell_type": "code",
   "execution_count": 28,
   "id": "26150a01",
   "metadata": {},
   "outputs": [],
   "source": [
    "file_names[-2] = file_names[-1]\n",
    "file_names[1] = file_names[2]  "
   ]
  },
  {
   "cell_type": "code",
   "execution_count": 29,
   "id": "2ef08169",
   "metadata": {},
   "outputs": [],
   "source": [
    "embeddings = model(image_list)"
   ]
  },
  {
   "cell_type": "code",
   "execution_count": 30,
   "id": "f9a8fe10",
   "metadata": {},
   "outputs": [
    {
     "data": {
      "text/plain": [
       "array([[ 1., -1.,  1., ...,  1., -1.,  1.],\n",
       "       [ 1., -1.,  1., ...,  1., -1.,  1.],\n",
       "       [ 1., -1.,  1., ...,  1., -1.,  1.],\n",
       "       ...,\n",
       "       [ 1., -1.,  1., ...,  1., -1.,  1.],\n",
       "       [ 1., -1.,  1., ...,  1., -1.,  1.],\n",
       "       [ 1., -1.,  1., ...,  1., -1.,  1.]], dtype=float32)"
      ]
     },
     "execution_count": 30,
     "metadata": {},
     "output_type": "execute_result"
    }
   ],
   "source": [
    "embeddings.numpy()"
   ]
  },
  {
   "cell_type": "code",
   "execution_count": 31,
   "id": "0f7a0884",
   "metadata": {},
   "outputs": [
    {
     "data": {
      "text/plain": [
       "(<tf.Tensor: shape=(), dtype=float32, numpy=nan>,\n",
       " <tf.Tensor: shape=(), dtype=float32, numpy=0.43145162>)"
      ]
     },
     "execution_count": 31,
     "metadata": {},
     "output_type": "execute_result"
    }
   ],
   "source": [
    "triplet_loss.batch_all_triplet_loss(np.array(file_names).astype(np.float32), embeddings.numpy(), margin=0.001)"
   ]
  },
  {
   "cell_type": "code",
   "execution_count": 7,
   "id": "546cbb8d",
   "metadata": {},
   "outputs": [
    {
     "data": {
      "text/plain": [
       "(64,)"
      ]
     },
     "execution_count": 7,
     "metadata": {},
     "output_type": "execute_result"
    }
   ],
   "source": [
    "np.array(file_names).shape"
   ]
  },
  {
   "cell_type": "code",
   "execution_count": 10,
   "id": "07f92545",
   "metadata": {},
   "outputs": [
    {
     "data": {
      "text/plain": [
       "array([ 7518.,  6921.,  4489.,  2738.,  8189.,  5140.,  1092.,  6532.,\n",
       "        2241.,  9946.,  7513.,  2770.,  5829.,  6840.,  5658.,  8426.,\n",
       "        8305.,  9317.,  6977.,  9011., 10038.,  5145.,  2402.,  4836.,\n",
       "        6805.,  8886.,  3505.,  6810.,  8289.,  7720.,  9241.,  3118.,\n",
       "        9318.,  1971.,  9034.,  3930.,  2132.,  1759.,  5395.,  5646.,\n",
       "        5242.,  9240.,  3081.,  5875.,  2328.,   986.,  9459.,  9725.,\n",
       "        5005.,  2139.,  2598.,  2566.,  4144.,  1070.,  6342.,  7334.,\n",
       "       10154.,  5996.,  8096.,   348.,  9629.,  6553.,  6376.,  3352.],\n",
       "      dtype=float32)"
      ]
     },
     "execution_count": 10,
     "metadata": {},
     "output_type": "execute_result"
    }
   ],
   "source": [
    "np.array(file_names).astype(np.float32)"
   ]
  },
  {
   "cell_type": "code",
   "execution_count": null,
   "id": "2ee9d67e",
   "metadata": {},
   "outputs": [],
   "source": []
  }
 ],
 "metadata": {
  "kernelspec": {
   "display_name": "Python 3 (ipykernel)",
   "language": "python",
   "name": "python3"
  },
  "language_info": {
   "codemirror_mode": {
    "name": "ipython",
    "version": 3
   },
   "file_extension": ".py",
   "mimetype": "text/x-python",
   "name": "python",
   "nbconvert_exporter": "python",
   "pygments_lexer": "ipython3",
   "version": "3.8.13"
  }
 },
 "nbformat": 4,
 "nbformat_minor": 5
}
