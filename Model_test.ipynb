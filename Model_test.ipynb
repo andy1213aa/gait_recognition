{
 "cells": [
  {
   "cell_type": "code",
   "execution_count": 1,
   "id": "e824e437",
   "metadata": {},
   "outputs": [
    {
     "name": "stderr",
     "output_type": "stream",
     "text": [
      "2022-06-29 16:15:53.621789: I tensorflow/core/util/util.cc:169] oneDNN custom operations are on. You may see slightly different numerical results due to floating-point round-off errors from different computation orders. To turn them off, set the environment variable `TF_ENABLE_ONEDNN_OPTS=0`.\n"
     ]
    }
   ],
   "source": [
    "import tensorflow as tf\n",
    "import cv2\n",
    "import random\n",
    "import numpy as np\n",
    "import tensorflow_triplet_loss.model.triplet_loss as triplet_loss\n",
    "from functools import wraps\n",
    "import time"
   ]
  },
  {
   "cell_type": "code",
   "execution_count": 2,
   "id": "a5554c33",
   "metadata": {},
   "outputs": [
    {
     "name": "stderr",
     "output_type": "stream",
     "text": [
      "2022-06-29 16:15:54.458141: I tensorflow/stream_executor/cuda/cuda_gpu_executor.cc:975] successful NUMA node read from SysFS had negative value (-1), but there must be at least one NUMA node, so returning NUMA node zero\n",
      "2022-06-29 16:15:54.458274: I tensorflow/stream_executor/cuda/cuda_gpu_executor.cc:975] successful NUMA node read from SysFS had negative value (-1), but there must be at least one NUMA node, so returning NUMA node zero\n",
      "2022-06-29 16:15:54.461539: I tensorflow/stream_executor/cuda/cuda_gpu_executor.cc:975] successful NUMA node read from SysFS had negative value (-1), but there must be at least one NUMA node, so returning NUMA node zero\n",
      "2022-06-29 16:15:54.461631: I tensorflow/stream_executor/cuda/cuda_gpu_executor.cc:975] successful NUMA node read from SysFS had negative value (-1), but there must be at least one NUMA node, so returning NUMA node zero\n",
      "2022-06-29 16:15:54.461692: I tensorflow/stream_executor/cuda/cuda_gpu_executor.cc:975] successful NUMA node read from SysFS had negative value (-1), but there must be at least one NUMA node, so returning NUMA node zero\n",
      "2022-06-29 16:15:54.461748: I tensorflow/stream_executor/cuda/cuda_gpu_executor.cc:975] successful NUMA node read from SysFS had negative value (-1), but there must be at least one NUMA node, so returning NUMA node zero\n",
      "2022-06-29 16:15:54.462019: I tensorflow/core/platform/cpu_feature_guard.cc:193] This TensorFlow binary is optimized with oneAPI Deep Neural Network Library (oneDNN) to use the following CPU instructions in performance-critical operations:  AVX2 AVX_VNNI FMA\n",
      "To enable them in other operations, rebuild TensorFlow with the appropriate compiler flags.\n",
      "2022-06-29 16:15:54.571012: I tensorflow/stream_executor/cuda/cuda_gpu_executor.cc:975] successful NUMA node read from SysFS had negative value (-1), but there must be at least one NUMA node, so returning NUMA node zero\n",
      "2022-06-29 16:15:54.571117: I tensorflow/stream_executor/cuda/cuda_gpu_executor.cc:975] successful NUMA node read from SysFS had negative value (-1), but there must be at least one NUMA node, so returning NUMA node zero\n",
      "2022-06-29 16:15:54.571180: I tensorflow/stream_executor/cuda/cuda_gpu_executor.cc:975] successful NUMA node read from SysFS had negative value (-1), but there must be at least one NUMA node, so returning NUMA node zero\n",
      "2022-06-29 16:15:54.571232: I tensorflow/stream_executor/cuda/cuda_gpu_executor.cc:975] successful NUMA node read from SysFS had negative value (-1), but there must be at least one NUMA node, so returning NUMA node zero\n",
      "2022-06-29 16:15:54.571283: I tensorflow/stream_executor/cuda/cuda_gpu_executor.cc:975] successful NUMA node read from SysFS had negative value (-1), but there must be at least one NUMA node, so returning NUMA node zero\n",
      "2022-06-29 16:15:54.571335: I tensorflow/stream_executor/cuda/cuda_gpu_executor.cc:975] successful NUMA node read from SysFS had negative value (-1), but there must be at least one NUMA node, so returning NUMA node zero\n",
      "2022-06-29 16:15:54.986676: I tensorflow/stream_executor/cuda/cuda_gpu_executor.cc:975] successful NUMA node read from SysFS had negative value (-1), but there must be at least one NUMA node, so returning NUMA node zero\n",
      "2022-06-29 16:15:54.986798: I tensorflow/stream_executor/cuda/cuda_gpu_executor.cc:975] successful NUMA node read from SysFS had negative value (-1), but there must be at least one NUMA node, so returning NUMA node zero\n",
      "2022-06-29 16:15:54.986861: I tensorflow/stream_executor/cuda/cuda_gpu_executor.cc:975] successful NUMA node read from SysFS had negative value (-1), but there must be at least one NUMA node, so returning NUMA node zero\n",
      "2022-06-29 16:15:54.986918: I tensorflow/stream_executor/cuda/cuda_gpu_executor.cc:975] successful NUMA node read from SysFS had negative value (-1), but there must be at least one NUMA node, so returning NUMA node zero\n",
      "2022-06-29 16:15:54.986972: I tensorflow/stream_executor/cuda/cuda_gpu_executor.cc:975] successful NUMA node read from SysFS had negative value (-1), but there must be at least one NUMA node, so returning NUMA node zero\n",
      "2022-06-29 16:15:54.987031: I tensorflow/core/common_runtime/gpu/gpu_device.cc:1532] Created device /job:localhost/replica:0/task:0/device:GPU:0 with 5336 MB memory:  -> device: 0, name: NVIDIA GeForce RTX 3070 Ti, pci bus id: 0000:01:00.0, compute capability: 8.6\n",
      "2022-06-29 16:15:54.987240: I tensorflow/stream_executor/cuda/cuda_gpu_executor.cc:975] successful NUMA node read from SysFS had negative value (-1), but there must be at least one NUMA node, so returning NUMA node zero\n",
      "2022-06-29 16:15:54.987296: I tensorflow/core/common_runtime/gpu/gpu_device.cc:1532] Created device /job:localhost/replica:0/task:0/device:GPU:1 with 6056 MB memory:  -> device: 1, name: NVIDIA GeForce RTX 3070 Ti, pci bus id: 0000:05:00.0, compute capability: 8.6\n",
      "/home/aaron/anaconda3/envs/gait/lib/python3.8/site-packages/keras/layers/core/lambda_layer.py:303: UserWarning: model.GaitNet is not loaded, but a Lambda layer uses it. It may cause errors.\n",
      "  function = cls._parse_function_from_config(config, custom_objects,\n"
     ]
    }
   ],
   "source": [
    "mode = 'gait_recognition'\n",
    "date = '2022_6_28_15_33'\n",
    "gait_model = tf.keras.models.load_model(f'/home/aaron/Desktop/Aaron/College-level_Applied_Research/gait_log/{mode}/{date}/GaitNet/trained_ckpt')"
   ]
  },
  {
   "cell_type": "code",
   "execution_count": 3,
   "id": "2e748827",
   "metadata": {},
   "outputs": [],
   "source": [
    "file_names = [str(i).zfill(5) for i in range(10308)]"
   ]
  },
  {
   "cell_type": "code",
   "execution_count": 4,
   "id": "99ec9bca",
   "metadata": {},
   "outputs": [],
   "source": [
    "def measureExcutionTime(func):\n",
    "    @wraps(func)\n",
    "    def _time_it(*args, **kwargs):\n",
    "        start = time.time()\n",
    "        try:\n",
    "            return func(*args, **kwargs)\n",
    "        finally:\n",
    "            end_ = time.time() - start\n",
    "            print(f\"{func.__name__} execution time: {end_: 0.4f} sec.\")\n",
    "    return _time_it"
   ]
  },
  {
   "cell_type": "code",
   "execution_count": 27,
   "id": "d8c64b92",
   "metadata": {},
   "outputs": [
    {
     "name": "stderr",
     "output_type": "stream",
     "text": [
      "[ WARN:0@679.930] global /io/opencv/modules/imgcodecs/src/loadsave.cpp (239) findDecoder imread_('/home/aaron/Desktop/Aaron/College-level_Applied_Research/GEI/075-00/00000.png'): can't open/read file: check file path/integrity\n",
      "[ WARN:0@679.986] global /io/opencv/modules/imgcodecs/src/loadsave.cpp (239) findDecoder imread_('/home/aaron/Desktop/Aaron/College-level_Applied_Research/GEI/075-00/00016.png'): can't open/read file: check file path/integrity\n",
      "[ WARN:0@680.455] global /io/opencv/modules/imgcodecs/src/loadsave.cpp (239) findDecoder imread_('/home/aaron/Desktop/Aaron/College-level_Applied_Research/GEI/075-00/00164.png'): can't open/read file: check file path/integrity\n",
      "[ WARN:0@680.460] global /io/opencv/modules/imgcodecs/src/loadsave.cpp (239) findDecoder imread_('/home/aaron/Desktop/Aaron/College-level_Applied_Research/GEI/075-00/00167.png'): can't open/read file: check file path/integrity\n",
      "[ WARN:0@680.500] global /io/opencv/modules/imgcodecs/src/loadsave.cpp (239) findDecoder imread_('/home/aaron/Desktop/Aaron/College-level_Applied_Research/GEI/075-00/00184.png'): can't open/read file: check file path/integrity\n",
      "[ WARN:0@680.792] global /io/opencv/modules/imgcodecs/src/loadsave.cpp (239) findDecoder imread_('/home/aaron/Desktop/Aaron/College-level_Applied_Research/GEI/075-00/00300.png'): can't open/read file: check file path/integrity\n",
      "[ WARN:0@680.797] global /io/opencv/modules/imgcodecs/src/loadsave.cpp (239) findDecoder imread_('/home/aaron/Desktop/Aaron/College-level_Applied_Research/GEI/075-00/00303.png'): can't open/read file: check file path/integrity\n",
      "[ WARN:0@680.885] global /io/opencv/modules/imgcodecs/src/loadsave.cpp (239) findDecoder imread_('/home/aaron/Desktop/Aaron/College-level_Applied_Research/GEI/075-00/00333.png'): can't open/read file: check file path/integrity\n",
      "[ WARN:0@680.913] global /io/opencv/modules/imgcodecs/src/loadsave.cpp (239) findDecoder imread_('/home/aaron/Desktop/Aaron/College-level_Applied_Research/GEI/075-00/00345.png'): can't open/read file: check file path/integrity\n",
      "[ WARN:0@681.019] global /io/opencv/modules/imgcodecs/src/loadsave.cpp (239) findDecoder imread_('/home/aaron/Desktop/Aaron/College-level_Applied_Research/GEI/075-00/00376.png'): can't open/read file: check file path/integrity\n",
      "[ WARN:0@681.042] global /io/opencv/modules/imgcodecs/src/loadsave.cpp (239) findDecoder imread_('/home/aaron/Desktop/Aaron/College-level_Applied_Research/GEI/075-00/00385.png'): can't open/read file: check file path/integrity\n",
      "[ WARN:0@681.053] global /io/opencv/modules/imgcodecs/src/loadsave.cpp (239) findDecoder imread_('/home/aaron/Desktop/Aaron/College-level_Applied_Research/GEI/075-00/00390.png'): can't open/read file: check file path/integrity\n",
      "[ WARN:0@681.149] global /io/opencv/modules/imgcodecs/src/loadsave.cpp (239) findDecoder imread_('/home/aaron/Desktop/Aaron/College-level_Applied_Research/GEI/075-00/00427.png'): can't open/read file: check file path/integrity\n",
      "[ WARN:0@681.275] global /io/opencv/modules/imgcodecs/src/loadsave.cpp (239) findDecoder imread_('/home/aaron/Desktop/Aaron/College-level_Applied_Research/GEI/075-00/00476.png'): can't open/read file: check file path/integrity\n",
      "[ WARN:0@681.335] global /io/opencv/modules/imgcodecs/src/loadsave.cpp (239) findDecoder imread_('/home/aaron/Desktop/Aaron/College-level_Applied_Research/GEI/075-00/00499.png'): can't open/read file: check file path/integrity\n",
      "[ WARN:0@681.354] global /io/opencv/modules/imgcodecs/src/loadsave.cpp (239) findDecoder imread_('/home/aaron/Desktop/Aaron/College-level_Applied_Research/GEI/075-00/00506.png'): can't open/read file: check file path/integrity\n",
      "[ WARN:0@681.477] global /io/opencv/modules/imgcodecs/src/loadsave.cpp (239) findDecoder imread_('/home/aaron/Desktop/Aaron/College-level_Applied_Research/GEI/075-00/00543.png'): can't open/read file: check file path/integrity\n",
      "[ WARN:0@682.065] global /io/opencv/modules/imgcodecs/src/loadsave.cpp (239) findDecoder imread_('/home/aaron/Desktop/Aaron/College-level_Applied_Research/GEI/075-00/00753.png'): can't open/read file: check file path/integrity\n",
      "[ WARN:0@682.065] global /io/opencv/modules/imgcodecs/src/loadsave.cpp (239) findDecoder imread_('/home/aaron/Desktop/Aaron/College-level_Applied_Research/GEI/075-00/00754.png'): can't open/read file: check file path/integrity\n",
      "[ WARN:0@682.179] global /io/opencv/modules/imgcodecs/src/loadsave.cpp (239) findDecoder imread_('/home/aaron/Desktop/Aaron/College-level_Applied_Research/GEI/075-00/00798.png'): can't open/read file: check file path/integrity\n",
      "[ WARN:0@682.179] global /io/opencv/modules/imgcodecs/src/loadsave.cpp (239) findDecoder imread_('/home/aaron/Desktop/Aaron/College-level_Applied_Research/GEI/075-00/00799.png'): can't open/read file: check file path/integrity\n",
      "[ WARN:0@682.208] global /io/opencv/modules/imgcodecs/src/loadsave.cpp (239) findDecoder imread_('/home/aaron/Desktop/Aaron/College-level_Applied_Research/GEI/075-00/00807.png'): can't open/read file: check file path/integrity\n",
      "[ WARN:0@682.218] global /io/opencv/modules/imgcodecs/src/loadsave.cpp (239) findDecoder imread_('/home/aaron/Desktop/Aaron/College-level_Applied_Research/GEI/075-00/00810.png'): can't open/read file: check file path/integrity\n",
      "[ WARN:0@682.260] global /io/opencv/modules/imgcodecs/src/loadsave.cpp (239) findDecoder imread_('/home/aaron/Desktop/Aaron/College-level_Applied_Research/GEI/075-00/00827.png'): can't open/read file: check file path/integrity\n",
      "[ WARN:0@682.532] global /io/opencv/modules/imgcodecs/src/loadsave.cpp (239) findDecoder imread_('/home/aaron/Desktop/Aaron/College-level_Applied_Research/GEI/075-00/00925.png'): can't open/read file: check file path/integrity\n",
      "[ WARN:0@682.543] global /io/opencv/modules/imgcodecs/src/loadsave.cpp (239) findDecoder imread_('/home/aaron/Desktop/Aaron/College-level_Applied_Research/GEI/075-00/00930.png'): can't open/read file: check file path/integrity\n",
      "[ WARN:0@682.568] global /io/opencv/modules/imgcodecs/src/loadsave.cpp (239) findDecoder imread_('/home/aaron/Desktop/Aaron/College-level_Applied_Research/GEI/075-00/00940.png'): can't open/read file: check file path/integrity\n",
      "[ WARN:0@682.631] global /io/opencv/modules/imgcodecs/src/loadsave.cpp (239) findDecoder imread_('/home/aaron/Desktop/Aaron/College-level_Applied_Research/GEI/075-00/00965.png'): can't open/read file: check file path/integrity\n",
      "[ WARN:0@683.138] global /io/opencv/modules/imgcodecs/src/loadsave.cpp (239) findDecoder imread_('/home/aaron/Desktop/Aaron/College-level_Applied_Research/GEI/075-00/01141.png'): can't open/read file: check file path/integrity\n",
      "[ WARN:0@683.156] global /io/opencv/modules/imgcodecs/src/loadsave.cpp (239) findDecoder imread_('/home/aaron/Desktop/Aaron/College-level_Applied_Research/GEI/075-00/01149.png'): can't open/read file: check file path/integrity\n",
      "[ WARN:0@683.308] global /io/opencv/modules/imgcodecs/src/loadsave.cpp (239) findDecoder imread_('/home/aaron/Desktop/Aaron/College-level_Applied_Research/GEI/075-00/01210.png'): can't open/read file: check file path/integrity\n",
      "[ WARN:0@683.478] global /io/opencv/modules/imgcodecs/src/loadsave.cpp (239) findDecoder imread_('/home/aaron/Desktop/Aaron/College-level_Applied_Research/GEI/075-00/01266.png'): can't open/read file: check file path/integrity\n",
      "[ WARN:0@683.510] global /io/opencv/modules/imgcodecs/src/loadsave.cpp (239) findDecoder imread_('/home/aaron/Desktop/Aaron/College-level_Applied_Research/GEI/075-00/01278.png'): can't open/read file: check file path/integrity\n",
      "[ WARN:0@683.528] global /io/opencv/modules/imgcodecs/src/loadsave.cpp (239) findDecoder imread_('/home/aaron/Desktop/Aaron/College-level_Applied_Research/GEI/075-00/01285.png'): can't open/read file: check file path/integrity\n",
      "[ WARN:0@683.754] global /io/opencv/modules/imgcodecs/src/loadsave.cpp (239) findDecoder imread_('/home/aaron/Desktop/Aaron/College-level_Applied_Research/GEI/075-00/01367.png'): can't open/read file: check file path/integrity\n",
      "[ WARN:0@683.969] global /io/opencv/modules/imgcodecs/src/loadsave.cpp (239) findDecoder imread_('/home/aaron/Desktop/Aaron/College-level_Applied_Research/GEI/075-00/01447.png'): can't open/read file: check file path/integrity\n",
      "[ WARN:0@684.007] global /io/opencv/modules/imgcodecs/src/loadsave.cpp (239) findDecoder imread_('/home/aaron/Desktop/Aaron/College-level_Applied_Research/GEI/075-00/01462.png'): can't open/read file: check file path/integrity\n"
     ]
    },
    {
     "name": "stderr",
     "output_type": "stream",
     "text": [
      "[ WARN:0@684.336] global /io/opencv/modules/imgcodecs/src/loadsave.cpp (239) findDecoder imread_('/home/aaron/Desktop/Aaron/College-level_Applied_Research/GEI/075-00/01577.png'): can't open/read file: check file path/integrity\n",
      "[ WARN:0@684.418] global /io/opencv/modules/imgcodecs/src/loadsave.cpp (239) findDecoder imread_('/home/aaron/Desktop/Aaron/College-level_Applied_Research/GEI/075-00/01608.png'): can't open/read file: check file path/integrity\n",
      "[ WARN:0@684.425] global /io/opencv/modules/imgcodecs/src/loadsave.cpp (239) findDecoder imread_('/home/aaron/Desktop/Aaron/College-level_Applied_Research/GEI/075-00/01612.png'): can't open/read file: check file path/integrity\n",
      "[ WARN:0@684.443] global /io/opencv/modules/imgcodecs/src/loadsave.cpp (239) findDecoder imread_('/home/aaron/Desktop/Aaron/College-level_Applied_Research/GEI/075-00/01620.png'): can't open/read file: check file path/integrity\n",
      "[ WARN:0@684.451] global /io/opencv/modules/imgcodecs/src/loadsave.cpp (239) findDecoder imread_('/home/aaron/Desktop/Aaron/College-level_Applied_Research/GEI/075-00/01624.png'): can't open/read file: check file path/integrity\n",
      "[ WARN:0@684.469] global /io/opencv/modules/imgcodecs/src/loadsave.cpp (239) findDecoder imread_('/home/aaron/Desktop/Aaron/College-level_Applied_Research/GEI/075-00/01632.png'): can't open/read file: check file path/integrity\n",
      "[ WARN:0@684.492] global /io/opencv/modules/imgcodecs/src/loadsave.cpp (239) findDecoder imread_('/home/aaron/Desktop/Aaron/College-level_Applied_Research/GEI/075-00/01642.png'): can't open/read file: check file path/integrity\n",
      "[ WARN:0@684.508] global /io/opencv/modules/imgcodecs/src/loadsave.cpp (239) findDecoder imread_('/home/aaron/Desktop/Aaron/College-level_Applied_Research/GEI/075-00/01649.png'): can't open/read file: check file path/integrity\n",
      "[ WARN:0@684.513] global /io/opencv/modules/imgcodecs/src/loadsave.cpp (239) findDecoder imread_('/home/aaron/Desktop/Aaron/College-level_Applied_Research/GEI/075-00/01652.png'): can't open/read file: check file path/integrity\n",
      "[ WARN:0@684.524] global /io/opencv/modules/imgcodecs/src/loadsave.cpp (239) findDecoder imread_('/home/aaron/Desktop/Aaron/College-level_Applied_Research/GEI/075-00/01657.png'): can't open/read file: check file path/integrity\n",
      "[ WARN:0@684.700] global /io/opencv/modules/imgcodecs/src/loadsave.cpp (239) findDecoder imread_('/home/aaron/Desktop/Aaron/College-level_Applied_Research/GEI/075-00/01726.png'): can't open/read file: check file path/integrity\n",
      "[ WARN:0@684.750] global /io/opencv/modules/imgcodecs/src/loadsave.cpp (239) findDecoder imread_('/home/aaron/Desktop/Aaron/College-level_Applied_Research/GEI/075-00/01746.png'): can't open/read file: check file path/integrity\n",
      "[ WARN:0@684.791] global /io/opencv/modules/imgcodecs/src/loadsave.cpp (239) findDecoder imread_('/home/aaron/Desktop/Aaron/College-level_Applied_Research/GEI/075-00/01762.png'): can't open/read file: check file path/integrity\n",
      "[ WARN:0@685.443] global /io/opencv/modules/imgcodecs/src/loadsave.cpp (239) findDecoder imread_('/home/aaron/Desktop/Aaron/College-level_Applied_Research/GEI/075-00/01982.png'): can't open/read file: check file path/integrity\n",
      "[ WARN:0@685.887] global /io/opencv/modules/imgcodecs/src/loadsave.cpp (239) findDecoder imread_('/home/aaron/Desktop/Aaron/College-level_Applied_Research/GEI/075-00/02138.png'): can't open/read file: check file path/integrity\n",
      "[ WARN:0@685.954] global /io/opencv/modules/imgcodecs/src/loadsave.cpp (239) findDecoder imread_('/home/aaron/Desktop/Aaron/College-level_Applied_Research/GEI/075-00/02166.png'): can't open/read file: check file path/integrity\n",
      "[ WARN:0@685.967] global /io/opencv/modules/imgcodecs/src/loadsave.cpp (239) findDecoder imread_('/home/aaron/Desktop/Aaron/College-level_Applied_Research/GEI/075-00/02172.png'): can't open/read file: check file path/integrity\n",
      "[ WARN:0@685.988] global /io/opencv/modules/imgcodecs/src/loadsave.cpp (239) findDecoder imread_('/home/aaron/Desktop/Aaron/College-level_Applied_Research/GEI/075-00/02181.png'): can't open/read file: check file path/integrity\n",
      "[ WARN:0@686.006] global /io/opencv/modules/imgcodecs/src/loadsave.cpp (239) findDecoder imread_('/home/aaron/Desktop/Aaron/College-level_Applied_Research/GEI/075-00/02189.png'): can't open/read file: check file path/integrity\n",
      "[ WARN:0@686.014] global /io/opencv/modules/imgcodecs/src/loadsave.cpp (239) findDecoder imread_('/home/aaron/Desktop/Aaron/College-level_Applied_Research/GEI/075-00/02193.png'): can't open/read file: check file path/integrity\n",
      "[ WARN:0@686.034] global /io/opencv/modules/imgcodecs/src/loadsave.cpp (239) findDecoder imread_('/home/aaron/Desktop/Aaron/College-level_Applied_Research/GEI/075-00/02202.png'): can't open/read file: check file path/integrity\n",
      "[ WARN:0@686.086] global /io/opencv/modules/imgcodecs/src/loadsave.cpp (239) findDecoder imread_('/home/aaron/Desktop/Aaron/College-level_Applied_Research/GEI/075-00/02223.png'): can't open/read file: check file path/integrity\n",
      "[ WARN:0@686.086] global /io/opencv/modules/imgcodecs/src/loadsave.cpp (239) findDecoder imread_('/home/aaron/Desktop/Aaron/College-level_Applied_Research/GEI/075-00/02224.png'): can't open/read file: check file path/integrity\n",
      "[ WARN:0@686.121] global /io/opencv/modules/imgcodecs/src/loadsave.cpp (239) findDecoder imread_('/home/aaron/Desktop/Aaron/College-level_Applied_Research/GEI/075-00/02238.png'): can't open/read file: check file path/integrity\n",
      "[ WARN:0@686.136] global /io/opencv/modules/imgcodecs/src/loadsave.cpp (239) findDecoder imread_('/home/aaron/Desktop/Aaron/College-level_Applied_Research/GEI/075-00/02245.png'): can't open/read file: check file path/integrity\n",
      "[ WARN:0@686.237] global /io/opencv/modules/imgcodecs/src/loadsave.cpp (239) findDecoder imread_('/home/aaron/Desktop/Aaron/College-level_Applied_Research/GEI/075-00/02282.png'): can't open/read file: check file path/integrity\n",
      "[ WARN:0@686.237] global /io/opencv/modules/imgcodecs/src/loadsave.cpp (239) findDecoder imread_('/home/aaron/Desktop/Aaron/College-level_Applied_Research/GEI/075-00/02283.png'): can't open/read file: check file path/integrity\n",
      "[ WARN:0@686.278] global /io/opencv/modules/imgcodecs/src/loadsave.cpp (239) findDecoder imread_('/home/aaron/Desktop/Aaron/College-level_Applied_Research/GEI/075-00/02296.png'): can't open/read file: check file path/integrity\n",
      "[ WARN:0@686.374] global /io/opencv/modules/imgcodecs/src/loadsave.cpp (239) findDecoder imread_('/home/aaron/Desktop/Aaron/College-level_Applied_Research/GEI/075-00/02328.png'): can't open/read file: check file path/integrity\n",
      "[ WARN:0@686.677] global /io/opencv/modules/imgcodecs/src/loadsave.cpp (239) findDecoder imread_('/home/aaron/Desktop/Aaron/College-level_Applied_Research/GEI/075-00/02429.png'): can't open/read file: check file path/integrity\n",
      "[ WARN:0@686.836] global /io/opencv/modules/imgcodecs/src/loadsave.cpp (239) findDecoder imread_('/home/aaron/Desktop/Aaron/College-level_Applied_Research/GEI/075-00/02485.png'): can't open/read file: check file path/integrity\n",
      "[ WARN:0@687.193] global /io/opencv/modules/imgcodecs/src/loadsave.cpp (239) findDecoder imread_('/home/aaron/Desktop/Aaron/College-level_Applied_Research/GEI/075-00/02618.png'): can't open/read file: check file path/integrity\n",
      "[ WARN:0@687.193] global /io/opencv/modules/imgcodecs/src/loadsave.cpp (239) findDecoder imread_('/home/aaron/Desktop/Aaron/College-level_Applied_Research/GEI/075-00/02619.png'): can't open/read file: check file path/integrity\n",
      "[ WARN:0@687.269] global /io/opencv/modules/imgcodecs/src/loadsave.cpp (239) findDecoder imread_('/home/aaron/Desktop/Aaron/College-level_Applied_Research/GEI/075-00/02647.png'): can't open/read file: check file path/integrity\n",
      "[ WARN:0@687.551] global /io/opencv/modules/imgcodecs/src/loadsave.cpp (239) findDecoder imread_('/home/aaron/Desktop/Aaron/College-level_Applied_Research/GEI/075-00/02744.png'): can't open/read file: check file path/integrity\n",
      "[ WARN:0@687.730] global /io/opencv/modules/imgcodecs/src/loadsave.cpp (239) findDecoder imread_('/home/aaron/Desktop/Aaron/College-level_Applied_Research/GEI/075-00/02813.png'): can't open/read file: check file path/integrity\n",
      "[ WARN:0@687.947] global /io/opencv/modules/imgcodecs/src/loadsave.cpp (239) findDecoder imread_('/home/aaron/Desktop/Aaron/College-level_Applied_Research/GEI/075-00/02893.png'): can't open/read file: check file path/integrity\n"
     ]
    },
    {
     "name": "stderr",
     "output_type": "stream",
     "text": [
      "[ WARN:0@688.399] global /io/opencv/modules/imgcodecs/src/loadsave.cpp (239) findDecoder imread_('/home/aaron/Desktop/Aaron/College-level_Applied_Research/GEI/075-00/03040.png'): can't open/read file: check file path/integrity\n",
      "[ WARN:0@688.869] global /io/opencv/modules/imgcodecs/src/loadsave.cpp (239) findDecoder imread_('/home/aaron/Desktop/Aaron/College-level_Applied_Research/GEI/075-00/03198.png'): can't open/read file: check file path/integrity\n",
      "[ WARN:0@689.042] global /io/opencv/modules/imgcodecs/src/loadsave.cpp (239) findDecoder imread_('/home/aaron/Desktop/Aaron/College-level_Applied_Research/GEI/075-00/03266.png'): can't open/read file: check file path/integrity\n",
      "[ WARN:0@689.590] global /io/opencv/modules/imgcodecs/src/loadsave.cpp (239) findDecoder imread_('/home/aaron/Desktop/Aaron/College-level_Applied_Research/GEI/075-00/03440.png'): can't open/read file: check file path/integrity\n",
      "[ WARN:0@689.634] global /io/opencv/modules/imgcodecs/src/loadsave.cpp (239) findDecoder imread_('/home/aaron/Desktop/Aaron/College-level_Applied_Research/GEI/075-00/03458.png'): can't open/read file: check file path/integrity\n",
      "[ WARN:0@689.698] global /io/opencv/modules/imgcodecs/src/loadsave.cpp (239) findDecoder imread_('/home/aaron/Desktop/Aaron/College-level_Applied_Research/GEI/075-00/03481.png'): can't open/read file: check file path/integrity\n",
      "[ WARN:0@689.763] global /io/opencv/modules/imgcodecs/src/loadsave.cpp (239) findDecoder imread_('/home/aaron/Desktop/Aaron/College-level_Applied_Research/GEI/075-00/03507.png'): can't open/read file: check file path/integrity\n",
      "[ WARN:0@689.763] global /io/opencv/modules/imgcodecs/src/loadsave.cpp (239) findDecoder imread_('/home/aaron/Desktop/Aaron/College-level_Applied_Research/GEI/075-00/03508.png'): can't open/read file: check file path/integrity\n",
      "[ WARN:0@689.807] global /io/opencv/modules/imgcodecs/src/loadsave.cpp (239) findDecoder imread_('/home/aaron/Desktop/Aaron/College-level_Applied_Research/GEI/075-00/03526.png'): can't open/read file: check file path/integrity\n",
      "[ WARN:0@689.962] global /io/opencv/modules/imgcodecs/src/loadsave.cpp (239) findDecoder imread_('/home/aaron/Desktop/Aaron/College-level_Applied_Research/GEI/075-00/03584.png'): can't open/read file: check file path/integrity\n",
      "[ WARN:0@689.962] global /io/opencv/modules/imgcodecs/src/loadsave.cpp (239) findDecoder imread_('/home/aaron/Desktop/Aaron/College-level_Applied_Research/GEI/075-00/03585.png'): can't open/read file: check file path/integrity\n",
      "[ WARN:0@690.111] global /io/opencv/modules/imgcodecs/src/loadsave.cpp (239) findDecoder imread_('/home/aaron/Desktop/Aaron/College-level_Applied_Research/GEI/075-00/03632.png'): can't open/read file: check file path/integrity\n",
      "[ WARN:0@690.199] global /io/opencv/modules/imgcodecs/src/loadsave.cpp (239) findDecoder imread_('/home/aaron/Desktop/Aaron/College-level_Applied_Research/GEI/075-00/03665.png'): can't open/read file: check file path/integrity\n",
      "[ WARN:0@690.407] global /io/opencv/modules/imgcodecs/src/loadsave.cpp (239) findDecoder imread_('/home/aaron/Desktop/Aaron/College-level_Applied_Research/GEI/075-00/03741.png'): can't open/read file: check file path/integrity\n",
      "[ WARN:0@690.412] global /io/opencv/modules/imgcodecs/src/loadsave.cpp (239) findDecoder imread_('/home/aaron/Desktop/Aaron/College-level_Applied_Research/GEI/075-00/03744.png'): can't open/read file: check file path/integrity\n",
      "[ WARN:0@690.825] global /io/opencv/modules/imgcodecs/src/loadsave.cpp (239) findDecoder imread_('/home/aaron/Desktop/Aaron/College-level_Applied_Research/GEI/075-00/03900.png'): can't open/read file: check file path/integrity\n",
      "[ WARN:0@691.112] global /io/opencv/modules/imgcodecs/src/loadsave.cpp (239) findDecoder imread_('/home/aaron/Desktop/Aaron/College-level_Applied_Research/GEI/075-00/04006.png'): can't open/read file: check file path/integrity\n",
      "[ WARN:0@691.482] global /io/opencv/modules/imgcodecs/src/loadsave.cpp (239) findDecoder imread_('/home/aaron/Desktop/Aaron/College-level_Applied_Research/GEI/075-00/04132.png'): can't open/read file: check file path/integrity\n",
      "[ WARN:0@691.563] global /io/opencv/modules/imgcodecs/src/loadsave.cpp (239) findDecoder imread_('/home/aaron/Desktop/Aaron/College-level_Applied_Research/GEI/075-00/04163.png'): can't open/read file: check file path/integrity\n",
      "[ WARN:0@691.647] global /io/opencv/modules/imgcodecs/src/loadsave.cpp (239) findDecoder imread_('/home/aaron/Desktop/Aaron/College-level_Applied_Research/GEI/075-00/04196.png'): can't open/read file: check file path/integrity\n",
      "[ WARN:0@691.693] global /io/opencv/modules/imgcodecs/src/loadsave.cpp (239) findDecoder imread_('/home/aaron/Desktop/Aaron/College-level_Applied_Research/GEI/075-00/04215.png'): can't open/read file: check file path/integrity\n",
      "[ WARN:0@691.869] global /io/opencv/modules/imgcodecs/src/loadsave.cpp (239) findDecoder imread_('/home/aaron/Desktop/Aaron/College-level_Applied_Research/GEI/075-00/04285.png'): can't open/read file: check file path/integrity\n",
      "[ WARN:0@691.928] global /io/opencv/modules/imgcodecs/src/loadsave.cpp (239) findDecoder imread_('/home/aaron/Desktop/Aaron/College-level_Applied_Research/GEI/075-00/04308.png'): can't open/read file: check file path/integrity\n",
      "[ WARN:0@691.992] global /io/opencv/modules/imgcodecs/src/loadsave.cpp (239) findDecoder imread_('/home/aaron/Desktop/Aaron/College-level_Applied_Research/GEI/075-00/04334.png'): can't open/read file: check file path/integrity\n",
      "[ WARN:0@692.145] global /io/opencv/modules/imgcodecs/src/loadsave.cpp (239) findDecoder imread_('/home/aaron/Desktop/Aaron/College-level_Applied_Research/GEI/075-00/04392.png'): can't open/read file: check file path/integrity\n",
      "[ WARN:0@692.261] global /io/opencv/modules/imgcodecs/src/loadsave.cpp (239) findDecoder imread_('/home/aaron/Desktop/Aaron/College-level_Applied_Research/GEI/075-00/04433.png'): can't open/read file: check file path/integrity\n",
      "[ WARN:0@692.266] global /io/opencv/modules/imgcodecs/src/loadsave.cpp (239) findDecoder imread_('/home/aaron/Desktop/Aaron/College-level_Applied_Research/GEI/075-00/04436.png'): can't open/read file: check file path/integrity\n",
      "[ WARN:0@692.392] global /io/opencv/modules/imgcodecs/src/loadsave.cpp (239) findDecoder imread_('/home/aaron/Desktop/Aaron/College-level_Applied_Research/GEI/075-00/04485.png'): can't open/read file: check file path/integrity\n",
      "[ WARN:0@692.413] global /io/opencv/modules/imgcodecs/src/loadsave.cpp (239) findDecoder imread_('/home/aaron/Desktop/Aaron/College-level_Applied_Research/GEI/075-00/04492.png'): can't open/read file: check file path/integrity\n",
      "[ WARN:0@692.468] global /io/opencv/modules/imgcodecs/src/loadsave.cpp (239) findDecoder imread_('/home/aaron/Desktop/Aaron/College-level_Applied_Research/GEI/075-00/04512.png'): can't open/read file: check file path/integrity\n",
      "[ WARN:0@692.526] global /io/opencv/modules/imgcodecs/src/loadsave.cpp (239) findDecoder imread_('/home/aaron/Desktop/Aaron/College-level_Applied_Research/GEI/075-00/04536.png'): can't open/read file: check file path/integrity\n",
      "[ WARN:0@692.543] global /io/opencv/modules/imgcodecs/src/loadsave.cpp (239) findDecoder imread_('/home/aaron/Desktop/Aaron/College-level_Applied_Research/GEI/075-00/04544.png'): can't open/read file: check file path/integrity\n",
      "[ WARN:0@692.587] global /io/opencv/modules/imgcodecs/src/loadsave.cpp (239) findDecoder imread_('/home/aaron/Desktop/Aaron/College-level_Applied_Research/GEI/075-00/04562.png'): can't open/read file: check file path/integrity\n",
      "[ WARN:0@692.596] global /io/opencv/modules/imgcodecs/src/loadsave.cpp (239) findDecoder imread_('/home/aaron/Desktop/Aaron/College-level_Applied_Research/GEI/075-00/04566.png'): can't open/read file: check file path/integrity\n",
      "[ WARN:0@692.611] global /io/opencv/modules/imgcodecs/src/loadsave.cpp (239) findDecoder imread_('/home/aaron/Desktop/Aaron/College-level_Applied_Research/GEI/075-00/04572.png'): can't open/read file: check file path/integrity\n",
      "[ WARN:0@692.617] global /io/opencv/modules/imgcodecs/src/loadsave.cpp (239) findDecoder imread_('/home/aaron/Desktop/Aaron/College-level_Applied_Research/GEI/075-00/04575.png'): can't open/read file: check file path/integrity\n",
      "[ WARN:0@692.695] global /io/opencv/modules/imgcodecs/src/loadsave.cpp (239) findDecoder imread_('/home/aaron/Desktop/Aaron/College-level_Applied_Research/GEI/075-00/04601.png'): can't open/read file: check file path/integrity\n",
      "[ WARN:0@692.760] global /io/opencv/modules/imgcodecs/src/loadsave.cpp (239) findDecoder imread_('/home/aaron/Desktop/Aaron/College-level_Applied_Research/GEI/075-00/04624.png'): can't open/read file: check file path/integrity\n",
      "[ WARN:0@692.780] global /io/opencv/modules/imgcodecs/src/loadsave.cpp (239) findDecoder imread_('/home/aaron/Desktop/Aaron/College-level_Applied_Research/GEI/075-00/04633.png'): can't open/read file: check file path/integrity\n",
      "[ WARN:0@692.780] global /io/opencv/modules/imgcodecs/src/loadsave.cpp (239) findDecoder imread_('/home/aaron/Desktop/Aaron/College-level_Applied_Research/GEI/075-00/04634.png'): can't open/read file: check file path/integrity\n",
      "[ WARN:0@692.780] global /io/opencv/modules/imgcodecs/src/loadsave.cpp (239) findDecoder imread_('/home/aaron/Desktop/Aaron/College-level_Applied_Research/GEI/075-00/04635.png'): can't open/read file: check file path/integrity\n",
      "[ WARN:0@692.780] global /io/opencv/modules/imgcodecs/src/loadsave.cpp (239) findDecoder imread_('/home/aaron/Desktop/Aaron/College-level_Applied_Research/GEI/075-00/04636.png'): can't open/read file: check file path/integrity\n",
      "[ WARN:0@692.792] global /io/opencv/modules/imgcodecs/src/loadsave.cpp (239) findDecoder imread_('/home/aaron/Desktop/Aaron/College-level_Applied_Research/GEI/075-00/04640.png'): can't open/read file: check file path/integrity\n"
     ]
    },
    {
     "name": "stderr",
     "output_type": "stream",
     "text": [
      "[ WARN:0@692.798] global /io/opencv/modules/imgcodecs/src/loadsave.cpp (239) findDecoder imread_('/home/aaron/Desktop/Aaron/College-level_Applied_Research/GEI/075-00/04643.png'): can't open/read file: check file path/integrity\n",
      "[ WARN:0@692.838] global /io/opencv/modules/imgcodecs/src/loadsave.cpp (239) findDecoder imread_('/home/aaron/Desktop/Aaron/College-level_Applied_Research/GEI/075-00/04656.png'): can't open/read file: check file path/integrity\n",
      "[ WARN:0@692.840] global /io/opencv/modules/imgcodecs/src/loadsave.cpp (239) findDecoder imread_('/home/aaron/Desktop/Aaron/College-level_Applied_Research/GEI/075-00/04658.png'): can't open/read file: check file path/integrity\n",
      "[ WARN:0@692.843] global /io/opencv/modules/imgcodecs/src/loadsave.cpp (239) findDecoder imread_('/home/aaron/Desktop/Aaron/College-level_Applied_Research/GEI/075-00/04660.png'): can't open/read file: check file path/integrity\n",
      "[ WARN:0@692.848] global /io/opencv/modules/imgcodecs/src/loadsave.cpp (239) findDecoder imread_('/home/aaron/Desktop/Aaron/College-level_Applied_Research/GEI/075-00/04663.png'): can't open/read file: check file path/integrity\n",
      "[ WARN:0@692.856] global /io/opencv/modules/imgcodecs/src/loadsave.cpp (239) findDecoder imread_('/home/aaron/Desktop/Aaron/College-level_Applied_Research/GEI/075-00/04667.png'): can't open/read file: check file path/integrity\n",
      "[ WARN:0@692.859] global /io/opencv/modules/imgcodecs/src/loadsave.cpp (239) findDecoder imread_('/home/aaron/Desktop/Aaron/College-level_Applied_Research/GEI/075-00/04669.png'): can't open/read file: check file path/integrity\n",
      "[ WARN:0@692.859] global /io/opencv/modules/imgcodecs/src/loadsave.cpp (239) findDecoder imread_('/home/aaron/Desktop/Aaron/College-level_Applied_Research/GEI/075-00/04670.png'): can't open/read file: check file path/integrity\n",
      "[ WARN:0@692.909] global /io/opencv/modules/imgcodecs/src/loadsave.cpp (239) findDecoder imread_('/home/aaron/Desktop/Aaron/College-level_Applied_Research/GEI/075-00/04687.png'): can't open/read file: check file path/integrity\n",
      "[ WARN:0@693.121] global /io/opencv/modules/imgcodecs/src/loadsave.cpp (239) findDecoder imread_('/home/aaron/Desktop/Aaron/College-level_Applied_Research/GEI/075-00/04762.png'): can't open/read file: check file path/integrity\n",
      "[ WARN:0@693.384] global /io/opencv/modules/imgcodecs/src/loadsave.cpp (239) findDecoder imread_('/home/aaron/Desktop/Aaron/College-level_Applied_Research/GEI/075-00/04855.png'): can't open/read file: check file path/integrity\n",
      "[ WARN:0@693.421] global /io/opencv/modules/imgcodecs/src/loadsave.cpp (239) findDecoder imread_('/home/aaron/Desktop/Aaron/College-level_Applied_Research/GEI/075-00/04870.png'): can't open/read file: check file path/integrity\n",
      "[ WARN:0@693.463] global /io/opencv/modules/imgcodecs/src/loadsave.cpp (239) findDecoder imread_('/home/aaron/Desktop/Aaron/College-level_Applied_Research/GEI/075-00/04887.png'): can't open/read file: check file path/integrity\n",
      "[ WARN:0@693.640] global /io/opencv/modules/imgcodecs/src/loadsave.cpp (239) findDecoder imread_('/home/aaron/Desktop/Aaron/College-level_Applied_Research/GEI/075-00/04954.png'): can't open/read file: check file path/integrity\n",
      "[ WARN:0@693.793] global /io/opencv/modules/imgcodecs/src/loadsave.cpp (239) findDecoder imread_('/home/aaron/Desktop/Aaron/College-level_Applied_Research/GEI/075-00/05014.png'): can't open/read file: check file path/integrity\n",
      "[ WARN:0@693.954] global /io/opencv/modules/imgcodecs/src/loadsave.cpp (239) findDecoder imread_('/home/aaron/Desktop/Aaron/College-level_Applied_Research/GEI/075-00/05076.png'): can't open/read file: check file path/integrity\n",
      "[ WARN:0@693.974] global /io/opencv/modules/imgcodecs/src/loadsave.cpp (239) findDecoder imread_('/home/aaron/Desktop/Aaron/College-level_Applied_Research/GEI/075-00/05085.png'): can't open/read file: check file path/integrity\n",
      "[ WARN:0@693.983] global /io/opencv/modules/imgcodecs/src/loadsave.cpp (239) findDecoder imread_('/home/aaron/Desktop/Aaron/College-level_Applied_Research/GEI/075-00/05089.png'): can't open/read file: check file path/integrity\n",
      "[ WARN:0@693.994] global /io/opencv/modules/imgcodecs/src/loadsave.cpp (239) findDecoder imread_('/home/aaron/Desktop/Aaron/College-level_Applied_Research/GEI/075-00/05094.png'): can't open/read file: check file path/integrity\n",
      "[ WARN:0@693.997] global /io/opencv/modules/imgcodecs/src/loadsave.cpp (239) findDecoder imread_('/home/aaron/Desktop/Aaron/College-level_Applied_Research/GEI/075-00/05096.png'): can't open/read file: check file path/integrity\n",
      "[ WARN:0@694.005] global /io/opencv/modules/imgcodecs/src/loadsave.cpp (239) findDecoder imread_('/home/aaron/Desktop/Aaron/College-level_Applied_Research/GEI/075-00/05099.png'): can't open/read file: check file path/integrity\n",
      "[ WARN:0@694.005] global /io/opencv/modules/imgcodecs/src/loadsave.cpp (239) findDecoder imread_('/home/aaron/Desktop/Aaron/College-level_Applied_Research/GEI/075-00/05100.png'): can't open/read file: check file path/integrity\n",
      "[ WARN:0@694.010] global /io/opencv/modules/imgcodecs/src/loadsave.cpp (239) findDecoder imread_('/home/aaron/Desktop/Aaron/College-level_Applied_Research/GEI/075-00/05103.png'): can't open/read file: check file path/integrity\n",
      "[ WARN:0@694.046] global /io/opencv/modules/imgcodecs/src/loadsave.cpp (239) findDecoder imread_('/home/aaron/Desktop/Aaron/College-level_Applied_Research/GEI/075-00/05113.png'): can't open/read file: check file path/integrity\n",
      "[ WARN:0@694.048] global /io/opencv/modules/imgcodecs/src/loadsave.cpp (239) findDecoder imread_('/home/aaron/Desktop/Aaron/College-level_Applied_Research/GEI/075-00/05115.png'): can't open/read file: check file path/integrity\n",
      "[ WARN:0@694.239] global /io/opencv/modules/imgcodecs/src/loadsave.cpp (239) findDecoder imread_('/home/aaron/Desktop/Aaron/College-level_Applied_Research/GEI/075-00/05169.png'): can't open/read file: check file path/integrity\n",
      "[ WARN:0@694.322] global /io/opencv/modules/imgcodecs/src/loadsave.cpp (239) findDecoder imread_('/home/aaron/Desktop/Aaron/College-level_Applied_Research/GEI/075-00/05199.png'): can't open/read file: check file path/integrity\n",
      "[ WARN:0@694.358] global /io/opencv/modules/imgcodecs/src/loadsave.cpp (239) findDecoder imread_('/home/aaron/Desktop/Aaron/College-level_Applied_Research/GEI/075-00/05214.png'): can't open/read file: check file path/integrity\n",
      "[ WARN:0@694.395] global /io/opencv/modules/imgcodecs/src/loadsave.cpp (239) findDecoder imread_('/home/aaron/Desktop/Aaron/College-level_Applied_Research/GEI/075-00/05229.png'): can't open/read file: check file path/integrity\n",
      "[ WARN:0@694.505] global /io/opencv/modules/imgcodecs/src/loadsave.cpp (239) findDecoder imread_('/home/aaron/Desktop/Aaron/College-level_Applied_Research/GEI/075-00/05270.png'): can't open/read file: check file path/integrity\n",
      "[ WARN:0@694.583] global /io/opencv/modules/imgcodecs/src/loadsave.cpp (239) findDecoder imread_('/home/aaron/Desktop/Aaron/College-level_Applied_Research/GEI/075-00/05301.png'): can't open/read file: check file path/integrity\n",
      "[ WARN:0@694.858] global /io/opencv/modules/imgcodecs/src/loadsave.cpp (239) findDecoder imread_('/home/aaron/Desktop/Aaron/College-level_Applied_Research/GEI/075-00/05397.png'): can't open/read file: check file path/integrity\n",
      "[ WARN:0@694.870] global /io/opencv/modules/imgcodecs/src/loadsave.cpp (239) findDecoder imread_('/home/aaron/Desktop/Aaron/College-level_Applied_Research/GEI/075-00/05403.png'): can't open/read file: check file path/integrity\n",
      "[ WARN:0@695.019] global /io/opencv/modules/imgcodecs/src/loadsave.cpp (239) findDecoder imread_('/home/aaron/Desktop/Aaron/College-level_Applied_Research/GEI/075-00/05459.png'): can't open/read file: check file path/integrity\n",
      "[ WARN:0@695.310] global /io/opencv/modules/imgcodecs/src/loadsave.cpp (239) findDecoder imread_('/home/aaron/Desktop/Aaron/College-level_Applied_Research/GEI/075-00/05545.png'): can't open/read file: check file path/integrity\n",
      "[ WARN:0@695.363] global /io/opencv/modules/imgcodecs/src/loadsave.cpp (239) findDecoder imread_('/home/aaron/Desktop/Aaron/College-level_Applied_Research/GEI/075-00/05552.png'): can't open/read file: check file path/integrity\n",
      "[ WARN:0@695.363] global /io/opencv/modules/imgcodecs/src/loadsave.cpp (239) findDecoder imread_('/home/aaron/Desktop/Aaron/College-level_Applied_Research/GEI/075-00/05553.png'): can't open/read file: check file path/integrity\n",
      "[ WARN:0@695.363] global /io/opencv/modules/imgcodecs/src/loadsave.cpp (239) findDecoder imread_('/home/aaron/Desktop/Aaron/College-level_Applied_Research/GEI/075-00/05554.png'): can't open/read file: check file path/integrity\n",
      "[ WARN:0@695.388] global /io/opencv/modules/imgcodecs/src/loadsave.cpp (239) findDecoder imread_('/home/aaron/Desktop/Aaron/College-level_Applied_Research/GEI/075-00/05562.png'): can't open/read file: check file path/integrity\n",
      "[ WARN:0@695.388] global /io/opencv/modules/imgcodecs/src/loadsave.cpp (239) findDecoder imread_('/home/aaron/Desktop/Aaron/College-level_Applied_Research/GEI/075-00/05563.png'): can't open/read file: check file path/integrity\n",
      "[ WARN:0@695.396] global /io/opencv/modules/imgcodecs/src/loadsave.cpp (239) findDecoder imread_('/home/aaron/Desktop/Aaron/College-level_Applied_Research/GEI/075-00/05567.png'): can't open/read file: check file path/integrity\n"
     ]
    },
    {
     "name": "stderr",
     "output_type": "stream",
     "text": [
      "[ WARN:0@695.618] global /io/opencv/modules/imgcodecs/src/loadsave.cpp (239) findDecoder imread_('/home/aaron/Desktop/Aaron/College-level_Applied_Research/GEI/075-00/05641.png'): can't open/read file: check file path/integrity\n",
      "[ WARN:0@695.889] global /io/opencv/modules/imgcodecs/src/loadsave.cpp (239) findDecoder imread_('/home/aaron/Desktop/Aaron/College-level_Applied_Research/GEI/075-00/05743.png'): can't open/read file: check file path/integrity\n",
      "[ WARN:0@696.263] global /io/opencv/modules/imgcodecs/src/loadsave.cpp (239) findDecoder imread_('/home/aaron/Desktop/Aaron/College-level_Applied_Research/GEI/075-00/05881.png'): can't open/read file: check file path/integrity\n",
      "[ WARN:0@696.278] global /io/opencv/modules/imgcodecs/src/loadsave.cpp (239) findDecoder imread_('/home/aaron/Desktop/Aaron/College-level_Applied_Research/GEI/075-00/05888.png'): can't open/read file: check file path/integrity\n",
      "[ WARN:0@696.305] global /io/opencv/modules/imgcodecs/src/loadsave.cpp (239) findDecoder imread_('/home/aaron/Desktop/Aaron/College-level_Applied_Research/GEI/075-00/05899.png'): can't open/read file: check file path/integrity\n",
      "[ WARN:0@696.310] global /io/opencv/modules/imgcodecs/src/loadsave.cpp (239) findDecoder imread_('/home/aaron/Desktop/Aaron/College-level_Applied_Research/GEI/075-00/05902.png'): can't open/read file: check file path/integrity\n",
      "[ WARN:0@696.319] global /io/opencv/modules/imgcodecs/src/loadsave.cpp (239) findDecoder imread_('/home/aaron/Desktop/Aaron/College-level_Applied_Research/GEI/075-00/05906.png'): can't open/read file: check file path/integrity\n",
      "[ WARN:0@696.340] global /io/opencv/modules/imgcodecs/src/loadsave.cpp (239) findDecoder imread_('/home/aaron/Desktop/Aaron/College-level_Applied_Research/GEI/075-00/05915.png'): can't open/read file: check file path/integrity\n",
      "[ WARN:0@696.389] global /io/opencv/modules/imgcodecs/src/loadsave.cpp (239) findDecoder imread_('/home/aaron/Desktop/Aaron/College-level_Applied_Research/GEI/075-00/05933.png'): can't open/read file: check file path/integrity\n",
      "[ WARN:0@696.439] global /io/opencv/modules/imgcodecs/src/loadsave.cpp (239) findDecoder imread_('/home/aaron/Desktop/Aaron/College-level_Applied_Research/GEI/075-00/05952.png'): can't open/read file: check file path/integrity\n",
      "[ WARN:0@696.466] global /io/opencv/modules/imgcodecs/src/loadsave.cpp (239) findDecoder imread_('/home/aaron/Desktop/Aaron/College-level_Applied_Research/GEI/075-00/05961.png'): can't open/read file: check file path/integrity\n",
      "[ WARN:0@696.587] global /io/opencv/modules/imgcodecs/src/loadsave.cpp (239) findDecoder imread_('/home/aaron/Desktop/Aaron/College-level_Applied_Research/GEI/075-00/06005.png'): can't open/read file: check file path/integrity\n",
      "[ WARN:0@696.678] global /io/opencv/modules/imgcodecs/src/loadsave.cpp (239) findDecoder imread_('/home/aaron/Desktop/Aaron/College-level_Applied_Research/GEI/075-00/06037.png'): can't open/read file: check file path/integrity\n",
      "[ WARN:0@696.711] global /io/opencv/modules/imgcodecs/src/loadsave.cpp (239) findDecoder imread_('/home/aaron/Desktop/Aaron/College-level_Applied_Research/GEI/075-00/06051.png'): can't open/read file: check file path/integrity\n",
      "[ WARN:0@696.813] global /io/opencv/modules/imgcodecs/src/loadsave.cpp (239) findDecoder imread_('/home/aaron/Desktop/Aaron/College-level_Applied_Research/GEI/075-00/06086.png'): can't open/read file: check file path/integrity\n",
      "[ WARN:0@696.907] global /io/opencv/modules/imgcodecs/src/loadsave.cpp (239) findDecoder imread_('/home/aaron/Desktop/Aaron/College-level_Applied_Research/GEI/075-00/06120.png'): can't open/read file: check file path/integrity\n",
      "[ WARN:0@696.917] global /io/opencv/modules/imgcodecs/src/loadsave.cpp (239) findDecoder imread_('/home/aaron/Desktop/Aaron/College-level_Applied_Research/GEI/075-00/06125.png'): can't open/read file: check file path/integrity\n",
      "[ WARN:0@697.381] global /io/opencv/modules/imgcodecs/src/loadsave.cpp (239) findDecoder imread_('/home/aaron/Desktop/Aaron/College-level_Applied_Research/GEI/075-00/06299.png'): can't open/read file: check file path/integrity\n",
      "[ WARN:0@697.435] global /io/opencv/modules/imgcodecs/src/loadsave.cpp (239) findDecoder imread_('/home/aaron/Desktop/Aaron/College-level_Applied_Research/GEI/075-00/06318.png'): can't open/read file: check file path/integrity\n",
      "[ WARN:0@697.925] global /io/opencv/modules/imgcodecs/src/loadsave.cpp (239) findDecoder imread_('/home/aaron/Desktop/Aaron/College-level_Applied_Research/GEI/075-00/06457.png'): can't open/read file: check file path/integrity\n",
      "[ WARN:0@697.948] global /io/opencv/modules/imgcodecs/src/loadsave.cpp (239) findDecoder imread_('/home/aaron/Desktop/Aaron/College-level_Applied_Research/GEI/075-00/06467.png'): can't open/read file: check file path/integrity\n",
      "[ WARN:0@698.158] global /io/opencv/modules/imgcodecs/src/loadsave.cpp (239) findDecoder imread_('/home/aaron/Desktop/Aaron/College-level_Applied_Research/GEI/075-00/06544.png'): can't open/read file: check file path/integrity\n",
      "[ WARN:0@698.395] global /io/opencv/modules/imgcodecs/src/loadsave.cpp (239) findDecoder imread_('/home/aaron/Desktop/Aaron/College-level_Applied_Research/GEI/075-00/06629.png'): can't open/read file: check file path/integrity\n",
      "[ WARN:0@698.408] global /io/opencv/modules/imgcodecs/src/loadsave.cpp (239) findDecoder imread_('/home/aaron/Desktop/Aaron/College-level_Applied_Research/GEI/075-00/06635.png'): can't open/read file: check file path/integrity\n",
      "[ WARN:0@698.473] global /io/opencv/modules/imgcodecs/src/loadsave.cpp (239) findDecoder imread_('/home/aaron/Desktop/Aaron/College-level_Applied_Research/GEI/075-00/06660.png'): can't open/read file: check file path/integrity\n",
      "[ WARN:0@698.662] global /io/opencv/modules/imgcodecs/src/loadsave.cpp (239) findDecoder imread_('/home/aaron/Desktop/Aaron/College-level_Applied_Research/GEI/075-00/06734.png'): can't open/read file: check file path/integrity\n",
      "[ WARN:0@698.705] global /io/opencv/modules/imgcodecs/src/loadsave.cpp (239) findDecoder imread_('/home/aaron/Desktop/Aaron/College-level_Applied_Research/GEI/075-00/06752.png'): can't open/read file: check file path/integrity\n",
      "[ WARN:0@698.928] global /io/opencv/modules/imgcodecs/src/loadsave.cpp (239) findDecoder imread_('/home/aaron/Desktop/Aaron/College-level_Applied_Research/GEI/075-00/06835.png'): can't open/read file: check file path/integrity\n",
      "[ WARN:0@699.105] global /io/opencv/modules/imgcodecs/src/loadsave.cpp (239) findDecoder imread_('/home/aaron/Desktop/Aaron/College-level_Applied_Research/GEI/075-00/06906.png'): can't open/read file: check file path/integrity\n",
      "[ WARN:0@699.475] global /io/opencv/modules/imgcodecs/src/loadsave.cpp (239) findDecoder imread_('/home/aaron/Desktop/Aaron/College-level_Applied_Research/GEI/075-00/07032.png'): can't open/read file: check file path/integrity\n",
      "[ WARN:0@699.548] global /io/opencv/modules/imgcodecs/src/loadsave.cpp (239) findDecoder imread_('/home/aaron/Desktop/Aaron/College-level_Applied_Research/GEI/075-00/07053.png'): can't open/read file: check file path/integrity\n",
      "[ WARN:0@699.704] global /io/opencv/modules/imgcodecs/src/loadsave.cpp (239) findDecoder imread_('/home/aaron/Desktop/Aaron/College-level_Applied_Research/GEI/075-00/07109.png'): can't open/read file: check file path/integrity\n",
      "[ WARN:0@699.816] global /io/opencv/modules/imgcodecs/src/loadsave.cpp (239) findDecoder imread_('/home/aaron/Desktop/Aaron/College-level_Applied_Research/GEI/075-00/07150.png'): can't open/read file: check file path/integrity\n",
      "[ WARN:0@699.984] global /io/opencv/modules/imgcodecs/src/loadsave.cpp (239) findDecoder imread_('/home/aaron/Desktop/Aaron/College-level_Applied_Research/GEI/075-00/07205.png'): can't open/read file: check file path/integrity\n",
      "[ WARN:0@700.175] global /io/opencv/modules/imgcodecs/src/loadsave.cpp (239) findDecoder imread_('/home/aaron/Desktop/Aaron/College-level_Applied_Research/GEI/075-00/07271.png'): can't open/read file: check file path/integrity\n",
      "[ WARN:0@700.258] global /io/opencv/modules/imgcodecs/src/loadsave.cpp (239) findDecoder imread_('/home/aaron/Desktop/Aaron/College-level_Applied_Research/GEI/075-00/07288.png'): can't open/read file: check file path/integrity\n",
      "[ WARN:0@700.275] global /io/opencv/modules/imgcodecs/src/loadsave.cpp (239) findDecoder imread_('/home/aaron/Desktop/Aaron/College-level_Applied_Research/GEI/075-00/07295.png'): can't open/read file: check file path/integrity\n",
      "[ WARN:0@700.339] global /io/opencv/modules/imgcodecs/src/loadsave.cpp (239) findDecoder imread_('/home/aaron/Desktop/Aaron/College-level_Applied_Research/GEI/075-00/07317.png'): can't open/read file: check file path/integrity\n",
      "[ WARN:0@700.357] global /io/opencv/modules/imgcodecs/src/loadsave.cpp (239) findDecoder imread_('/home/aaron/Desktop/Aaron/College-level_Applied_Research/GEI/075-00/07325.png'): can't open/read file: check file path/integrity\n",
      "[ WARN:0@700.394] global /io/opencv/modules/imgcodecs/src/loadsave.cpp (239) findDecoder imread_('/home/aaron/Desktop/Aaron/College-level_Applied_Research/GEI/075-00/07337.png'): can't open/read file: check file path/integrity\n",
      "[ WARN:0@700.429] global /io/opencv/modules/imgcodecs/src/loadsave.cpp (239) findDecoder imread_('/home/aaron/Desktop/Aaron/College-level_Applied_Research/GEI/075-00/07351.png'): can't open/read file: check file path/integrity\n"
     ]
    },
    {
     "name": "stderr",
     "output_type": "stream",
     "text": [
      "[ WARN:0@700.547] global /io/opencv/modules/imgcodecs/src/loadsave.cpp (239) findDecoder imread_('/home/aaron/Desktop/Aaron/College-level_Applied_Research/GEI/075-00/07395.png'): can't open/read file: check file path/integrity\n",
      "[ WARN:0@700.566] global /io/opencv/modules/imgcodecs/src/loadsave.cpp (239) findDecoder imread_('/home/aaron/Desktop/Aaron/College-level_Applied_Research/GEI/075-00/07402.png'): can't open/read file: check file path/integrity\n",
      "[ WARN:0@700.581] global /io/opencv/modules/imgcodecs/src/loadsave.cpp (239) findDecoder imread_('/home/aaron/Desktop/Aaron/College-level_Applied_Research/GEI/075-00/07408.png'): can't open/read file: check file path/integrity\n",
      "[ WARN:0@700.581] global /io/opencv/modules/imgcodecs/src/loadsave.cpp (239) findDecoder imread_('/home/aaron/Desktop/Aaron/College-level_Applied_Research/GEI/075-00/07409.png'): can't open/read file: check file path/integrity\n",
      "[ WARN:0@700.587] global /io/opencv/modules/imgcodecs/src/loadsave.cpp (239) findDecoder imread_('/home/aaron/Desktop/Aaron/College-level_Applied_Research/GEI/075-00/07412.png'): can't open/read file: check file path/integrity\n",
      "[ WARN:0@700.685] global /io/opencv/modules/imgcodecs/src/loadsave.cpp (239) findDecoder imread_('/home/aaron/Desktop/Aaron/College-level_Applied_Research/GEI/075-00/07440.png'): can't open/read file: check file path/integrity\n",
      "[ WARN:0@700.707] global /io/opencv/modules/imgcodecs/src/loadsave.cpp (239) findDecoder imread_('/home/aaron/Desktop/Aaron/College-level_Applied_Research/GEI/075-00/07449.png'): can't open/read file: check file path/integrity\n",
      "[ WARN:0@700.759] global /io/opencv/modules/imgcodecs/src/loadsave.cpp (239) findDecoder imread_('/home/aaron/Desktop/Aaron/College-level_Applied_Research/GEI/075-00/07462.png'): can't open/read file: check file path/integrity\n",
      "[ WARN:0@700.773] global /io/opencv/modules/imgcodecs/src/loadsave.cpp (239) findDecoder imread_('/home/aaron/Desktop/Aaron/College-level_Applied_Research/GEI/075-00/07468.png'): can't open/read file: check file path/integrity\n",
      "[ WARN:0@700.851] global /io/opencv/modules/imgcodecs/src/loadsave.cpp (239) findDecoder imread_('/home/aaron/Desktop/Aaron/College-level_Applied_Research/GEI/075-00/07498.png'): can't open/read file: check file path/integrity\n",
      "[ WARN:0@700.893] global /io/opencv/modules/imgcodecs/src/loadsave.cpp (239) findDecoder imread_('/home/aaron/Desktop/Aaron/College-level_Applied_Research/GEI/075-00/07515.png'): can't open/read file: check file path/integrity\n",
      "[ WARN:0@700.929] global /io/opencv/modules/imgcodecs/src/loadsave.cpp (239) findDecoder imread_('/home/aaron/Desktop/Aaron/College-level_Applied_Research/GEI/075-00/07530.png'): can't open/read file: check file path/integrity\n",
      "[ WARN:0@701.216] global /io/opencv/modules/imgcodecs/src/loadsave.cpp (239) findDecoder imread_('/home/aaron/Desktop/Aaron/College-level_Applied_Research/GEI/075-00/07589.png'): can't open/read file: check file path/integrity\n",
      "[ WARN:0@701.366] global /io/opencv/modules/imgcodecs/src/loadsave.cpp (239) findDecoder imread_('/home/aaron/Desktop/Aaron/College-level_Applied_Research/GEI/075-00/07617.png'): can't open/read file: check file path/integrity\n",
      "[ WARN:0@701.608] global /io/opencv/modules/imgcodecs/src/loadsave.cpp (239) findDecoder imread_('/home/aaron/Desktop/Aaron/College-level_Applied_Research/GEI/075-00/07711.png'): can't open/read file: check file path/integrity\n",
      "[ WARN:0@701.649] global /io/opencv/modules/imgcodecs/src/loadsave.cpp (239) findDecoder imread_('/home/aaron/Desktop/Aaron/College-level_Applied_Research/GEI/075-00/07723.png'): can't open/read file: check file path/integrity\n",
      "[ WARN:0@702.090] global /io/opencv/modules/imgcodecs/src/loadsave.cpp (239) findDecoder imread_('/home/aaron/Desktop/Aaron/College-level_Applied_Research/GEI/075-00/07868.png'): can't open/read file: check file path/integrity\n",
      "[ WARN:0@702.193] global /io/opencv/modules/imgcodecs/src/loadsave.cpp (239) findDecoder imread_('/home/aaron/Desktop/Aaron/College-level_Applied_Research/GEI/075-00/07906.png'): can't open/read file: check file path/integrity\n",
      "[ WARN:0@702.316] global /io/opencv/modules/imgcodecs/src/loadsave.cpp (239) findDecoder imread_('/home/aaron/Desktop/Aaron/College-level_Applied_Research/GEI/075-00/07949.png'): can't open/read file: check file path/integrity\n",
      "[ WARN:0@702.321] global /io/opencv/modules/imgcodecs/src/loadsave.cpp (239) findDecoder imread_('/home/aaron/Desktop/Aaron/College-level_Applied_Research/GEI/075-00/07952.png'): can't open/read file: check file path/integrity\n",
      "[ WARN:0@702.835] global /io/opencv/modules/imgcodecs/src/loadsave.cpp (239) findDecoder imread_('/home/aaron/Desktop/Aaron/College-level_Applied_Research/GEI/075-00/08149.png'): can't open/read file: check file path/integrity\n",
      "[ WARN:0@702.915] global /io/opencv/modules/imgcodecs/src/loadsave.cpp (239) findDecoder imread_('/home/aaron/Desktop/Aaron/College-level_Applied_Research/GEI/075-00/08175.png'): can't open/read file: check file path/integrity\n",
      "[ WARN:0@703.197] global /io/opencv/modules/imgcodecs/src/loadsave.cpp (239) findDecoder imread_('/home/aaron/Desktop/Aaron/College-level_Applied_Research/GEI/075-00/08258.png'): can't open/read file: check file path/integrity\n",
      "[ WARN:0@703.230] global /io/opencv/modules/imgcodecs/src/loadsave.cpp (239) findDecoder imread_('/home/aaron/Desktop/Aaron/College-level_Applied_Research/GEI/075-00/08271.png'): can't open/read file: check file path/integrity\n",
      "[ WARN:0@703.239] global /io/opencv/modules/imgcodecs/src/loadsave.cpp (239) findDecoder imread_('/home/aaron/Desktop/Aaron/College-level_Applied_Research/GEI/075-00/08275.png'): can't open/read file: check file path/integrity\n",
      "[ WARN:0@703.398] global /io/opencv/modules/imgcodecs/src/loadsave.cpp (239) findDecoder imread_('/home/aaron/Desktop/Aaron/College-level_Applied_Research/GEI/075-00/08319.png'): can't open/read file: check file path/integrity\n",
      "[ WARN:0@703.631] global /io/opencv/modules/imgcodecs/src/loadsave.cpp (239) findDecoder imread_('/home/aaron/Desktop/Aaron/College-level_Applied_Research/GEI/075-00/08409.png'): can't open/read file: check file path/integrity\n",
      "[ WARN:0@703.850] global /io/opencv/modules/imgcodecs/src/loadsave.cpp (239) findDecoder imread_('/home/aaron/Desktop/Aaron/College-level_Applied_Research/GEI/075-00/08492.png'): can't open/read file: check file path/integrity\n",
      "[ WARN:0@704.294] global /io/opencv/modules/imgcodecs/src/loadsave.cpp (239) findDecoder imread_('/home/aaron/Desktop/Aaron/College-level_Applied_Research/GEI/075-00/08647.png'): can't open/read file: check file path/integrity\n",
      "[ WARN:0@704.413] global /io/opencv/modules/imgcodecs/src/loadsave.cpp (239) findDecoder imread_('/home/aaron/Desktop/Aaron/College-level_Applied_Research/GEI/075-00/08695.png'): can't open/read file: check file path/integrity\n",
      "[ WARN:0@704.413] global /io/opencv/modules/imgcodecs/src/loadsave.cpp (239) findDecoder imread_('/home/aaron/Desktop/Aaron/College-level_Applied_Research/GEI/075-00/08696.png'): can't open/read file: check file path/integrity\n",
      "[ WARN:0@704.543] global /io/opencv/modules/imgcodecs/src/loadsave.cpp (239) findDecoder imread_('/home/aaron/Desktop/Aaron/College-level_Applied_Research/GEI/075-00/08736.png'): can't open/read file: check file path/integrity\n",
      "[ WARN:0@704.663] global /io/opencv/modules/imgcodecs/src/loadsave.cpp (239) findDecoder imread_('/home/aaron/Desktop/Aaron/College-level_Applied_Research/GEI/075-00/08774.png'): can't open/read file: check file path/integrity\n",
      "[ WARN:0@704.914] global /io/opencv/modules/imgcodecs/src/loadsave.cpp (239) findDecoder imread_('/home/aaron/Desktop/Aaron/College-level_Applied_Research/GEI/075-00/08868.png'): can't open/read file: check file path/integrity\n",
      "[ WARN:0@705.242] global /io/opencv/modules/imgcodecs/src/loadsave.cpp (239) findDecoder imread_('/home/aaron/Desktop/Aaron/College-level_Applied_Research/GEI/075-00/08988.png'): can't open/read file: check file path/integrity\n",
      "[ WARN:0@705.245] global /io/opencv/modules/imgcodecs/src/loadsave.cpp (239) findDecoder imread_('/home/aaron/Desktop/Aaron/College-level_Applied_Research/GEI/075-00/08990.png'): can't open/read file: check file path/integrity\n",
      "[ WARN:0@705.311] global /io/opencv/modules/imgcodecs/src/loadsave.cpp (239) findDecoder imread_('/home/aaron/Desktop/Aaron/College-level_Applied_Research/GEI/075-00/09017.png'): can't open/read file: check file path/integrity\n",
      "[ WARN:0@705.318] global /io/opencv/modules/imgcodecs/src/loadsave.cpp (239) findDecoder imread_('/home/aaron/Desktop/Aaron/College-level_Applied_Research/GEI/075-00/09021.png'): can't open/read file: check file path/integrity\n",
      "[ WARN:0@705.366] global /io/opencv/modules/imgcodecs/src/loadsave.cpp (239) findDecoder imread_('/home/aaron/Desktop/Aaron/College-level_Applied_Research/GEI/075-00/09037.png'): can't open/read file: check file path/integrity\n",
      "[ WARN:0@705.380] global /io/opencv/modules/imgcodecs/src/loadsave.cpp (239) findDecoder imread_('/home/aaron/Desktop/Aaron/College-level_Applied_Research/GEI/075-00/09043.png'): can't open/read file: check file path/integrity\n"
     ]
    },
    {
     "name": "stderr",
     "output_type": "stream",
     "text": [
      "[ WARN:0@705.463] global /io/opencv/modules/imgcodecs/src/loadsave.cpp (239) findDecoder imread_('/home/aaron/Desktop/Aaron/College-level_Applied_Research/GEI/075-00/09075.png'): can't open/read file: check file path/integrity\n",
      "[ WARN:0@705.495] global /io/opencv/modules/imgcodecs/src/loadsave.cpp (239) findDecoder imread_('/home/aaron/Desktop/Aaron/College-level_Applied_Research/GEI/075-00/09087.png'): can't open/read file: check file path/integrity\n",
      "[ WARN:0@705.615] global /io/opencv/modules/imgcodecs/src/loadsave.cpp (239) findDecoder imread_('/home/aaron/Desktop/Aaron/College-level_Applied_Research/GEI/075-00/09134.png'): can't open/read file: check file path/integrity\n",
      "[ WARN:0@705.761] global /io/opencv/modules/imgcodecs/src/loadsave.cpp (239) findDecoder imread_('/home/aaron/Desktop/Aaron/College-level_Applied_Research/GEI/075-00/09183.png'): can't open/read file: check file path/integrity\n",
      "[ WARN:0@705.819] global /io/opencv/modules/imgcodecs/src/loadsave.cpp (239) findDecoder imread_('/home/aaron/Desktop/Aaron/College-level_Applied_Research/GEI/075-00/09206.png'): can't open/read file: check file path/integrity\n",
      "[ WARN:0@705.824] global /io/opencv/modules/imgcodecs/src/loadsave.cpp (239) findDecoder imread_('/home/aaron/Desktop/Aaron/College-level_Applied_Research/GEI/075-00/09209.png'): can't open/read file: check file path/integrity\n",
      "[ WARN:0@705.848] global /io/opencv/modules/imgcodecs/src/loadsave.cpp (239) findDecoder imread_('/home/aaron/Desktop/Aaron/College-level_Applied_Research/GEI/075-00/09216.png'): can't open/read file: check file path/integrity\n",
      "[ WARN:0@705.894] global /io/opencv/modules/imgcodecs/src/loadsave.cpp (239) findDecoder imread_('/home/aaron/Desktop/Aaron/College-level_Applied_Research/GEI/075-00/09234.png'): can't open/read file: check file path/integrity\n",
      "[ WARN:0@706.130] global /io/opencv/modules/imgcodecs/src/loadsave.cpp (239) findDecoder imread_('/home/aaron/Desktop/Aaron/College-level_Applied_Research/GEI/075-00/09318.png'): can't open/read file: check file path/integrity\n",
      "[ WARN:0@706.166] global /io/opencv/modules/imgcodecs/src/loadsave.cpp (239) findDecoder imread_('/home/aaron/Desktop/Aaron/College-level_Applied_Research/GEI/075-00/09331.png'): can't open/read file: check file path/integrity\n",
      "[ WARN:0@706.369] global /io/opencv/modules/imgcodecs/src/loadsave.cpp (239) findDecoder imread_('/home/aaron/Desktop/Aaron/College-level_Applied_Research/GEI/075-00/09398.png'): can't open/read file: check file path/integrity\n",
      "[ WARN:0@706.946] global /io/opencv/modules/imgcodecs/src/loadsave.cpp (239) findDecoder imread_('/home/aaron/Desktop/Aaron/College-level_Applied_Research/GEI/075-00/09607.png'): can't open/read file: check file path/integrity\n",
      "[ WARN:0@707.058] global /io/opencv/modules/imgcodecs/src/loadsave.cpp (239) findDecoder imread_('/home/aaron/Desktop/Aaron/College-level_Applied_Research/GEI/075-00/09648.png'): can't open/read file: check file path/integrity\n",
      "[ WARN:0@707.103] global /io/opencv/modules/imgcodecs/src/loadsave.cpp (239) findDecoder imread_('/home/aaron/Desktop/Aaron/College-level_Applied_Research/GEI/075-00/09664.png'): can't open/read file: check file path/integrity\n",
      "[ WARN:0@707.151] global /io/opencv/modules/imgcodecs/src/loadsave.cpp (239) findDecoder imread_('/home/aaron/Desktop/Aaron/College-level_Applied_Research/GEI/075-00/09683.png'): can't open/read file: check file path/integrity\n",
      "[ WARN:0@707.300] global /io/opencv/modules/imgcodecs/src/loadsave.cpp (239) findDecoder imread_('/home/aaron/Desktop/Aaron/College-level_Applied_Research/GEI/075-00/09737.png'): can't open/read file: check file path/integrity\n",
      "[ WARN:0@707.431] global /io/opencv/modules/imgcodecs/src/loadsave.cpp (239) findDecoder imread_('/home/aaron/Desktop/Aaron/College-level_Applied_Research/GEI/075-00/09786.png'): can't open/read file: check file path/integrity\n",
      "[ WARN:0@707.623] global /io/opencv/modules/imgcodecs/src/loadsave.cpp (239) findDecoder imread_('/home/aaron/Desktop/Aaron/College-level_Applied_Research/GEI/075-00/09841.png'): can't open/read file: check file path/integrity\n",
      "[ WARN:0@707.784] global /io/opencv/modules/imgcodecs/src/loadsave.cpp (239) findDecoder imread_('/home/aaron/Desktop/Aaron/College-level_Applied_Research/GEI/075-00/09903.png'): can't open/read file: check file path/integrity\n",
      "[ WARN:0@707.860] global /io/opencv/modules/imgcodecs/src/loadsave.cpp (239) findDecoder imread_('/home/aaron/Desktop/Aaron/College-level_Applied_Research/GEI/075-00/09929.png'): can't open/read file: check file path/integrity\n",
      "[ WARN:0@707.883] global /io/opencv/modules/imgcodecs/src/loadsave.cpp (239) findDecoder imread_('/home/aaron/Desktop/Aaron/College-level_Applied_Research/GEI/075-00/09938.png'): can't open/read file: check file path/integrity\n",
      "[ WARN:0@708.004] global /io/opencv/modules/imgcodecs/src/loadsave.cpp (239) findDecoder imread_('/home/aaron/Desktop/Aaron/College-level_Applied_Research/GEI/075-00/09982.png'): can't open/read file: check file path/integrity\n",
      "[ WARN:0@708.076] global /io/opencv/modules/imgcodecs/src/loadsave.cpp (239) findDecoder imread_('/home/aaron/Desktop/Aaron/College-level_Applied_Research/GEI/075-00/10003.png'): can't open/read file: check file path/integrity\n",
      "[ WARN:0@708.079] global /io/opencv/modules/imgcodecs/src/loadsave.cpp (239) findDecoder imread_('/home/aaron/Desktop/Aaron/College-level_Applied_Research/GEI/075-00/10005.png'): can't open/read file: check file path/integrity\n",
      "[ WARN:0@708.079] global /io/opencv/modules/imgcodecs/src/loadsave.cpp (239) findDecoder imread_('/home/aaron/Desktop/Aaron/College-level_Applied_Research/GEI/075-00/10006.png'): can't open/read file: check file path/integrity\n",
      "[ WARN:0@708.081] global /io/opencv/modules/imgcodecs/src/loadsave.cpp (239) findDecoder imread_('/home/aaron/Desktop/Aaron/College-level_Applied_Research/GEI/075-00/10008.png'): can't open/read file: check file path/integrity\n",
      "[ WARN:0@708.081] global /io/opencv/modules/imgcodecs/src/loadsave.cpp (239) findDecoder imread_('/home/aaron/Desktop/Aaron/College-level_Applied_Research/GEI/075-00/10009.png'): can't open/read file: check file path/integrity\n",
      "[ WARN:0@708.084] global /io/opencv/modules/imgcodecs/src/loadsave.cpp (239) findDecoder imread_('/home/aaron/Desktop/Aaron/College-level_Applied_Research/GEI/075-00/10011.png'): can't open/read file: check file path/integrity\n",
      "[ WARN:0@708.084] global /io/opencv/modules/imgcodecs/src/loadsave.cpp (239) findDecoder imread_('/home/aaron/Desktop/Aaron/College-level_Applied_Research/GEI/075-00/10012.png'): can't open/read file: check file path/integrity\n",
      "[ WARN:0@708.109] global /io/opencv/modules/imgcodecs/src/loadsave.cpp (239) findDecoder imread_('/home/aaron/Desktop/Aaron/College-level_Applied_Research/GEI/075-00/10023.png'): can't open/read file: check file path/integrity\n",
      "[ WARN:0@708.117] global /io/opencv/modules/imgcodecs/src/loadsave.cpp (239) findDecoder imread_('/home/aaron/Desktop/Aaron/College-level_Applied_Research/GEI/075-00/10027.png'): can't open/read file: check file path/integrity\n",
      "[ WARN:0@708.131] global /io/opencv/modules/imgcodecs/src/loadsave.cpp (239) findDecoder imread_('/home/aaron/Desktop/Aaron/College-level_Applied_Research/GEI/075-00/10033.png'): can't open/read file: check file path/integrity\n",
      "[ WARN:0@708.135] global /io/opencv/modules/imgcodecs/src/loadsave.cpp (239) findDecoder imread_('/home/aaron/Desktop/Aaron/College-level_Applied_Research/GEI/075-00/10035.png'): can't open/read file: check file path/integrity\n",
      "[ WARN:0@708.145] global /io/opencv/modules/imgcodecs/src/loadsave.cpp (239) findDecoder imread_('/home/aaron/Desktop/Aaron/College-level_Applied_Research/GEI/075-00/10039.png'): can't open/read file: check file path/integrity\n",
      "[ WARN:0@708.152] global /io/opencv/modules/imgcodecs/src/loadsave.cpp (239) findDecoder imread_('/home/aaron/Desktop/Aaron/College-level_Applied_Research/GEI/075-00/10042.png'): can't open/read file: check file path/integrity\n",
      "[ WARN:0@708.152] global /io/opencv/modules/imgcodecs/src/loadsave.cpp (239) findDecoder imread_('/home/aaron/Desktop/Aaron/College-level_Applied_Research/GEI/075-00/10043.png'): can't open/read file: check file path/integrity\n",
      "[ WARN:0@708.152] global /io/opencv/modules/imgcodecs/src/loadsave.cpp (239) findDecoder imread_('/home/aaron/Desktop/Aaron/College-level_Applied_Research/GEI/075-00/10044.png'): can't open/read file: check file path/integrity\n",
      "[ WARN:0@708.199] global /io/opencv/modules/imgcodecs/src/loadsave.cpp (239) findDecoder imread_('/home/aaron/Desktop/Aaron/College-level_Applied_Research/GEI/075-00/10057.png'): can't open/read file: check file path/integrity\n",
      "[ WARN:0@708.199] global /io/opencv/modules/imgcodecs/src/loadsave.cpp (239) findDecoder imread_('/home/aaron/Desktop/Aaron/College-level_Applied_Research/GEI/075-00/10058.png'): can't open/read file: check file path/integrity\n",
      "[ WARN:0@708.199] global /io/opencv/modules/imgcodecs/src/loadsave.cpp (239) findDecoder imread_('/home/aaron/Desktop/Aaron/College-level_Applied_Research/GEI/075-00/10059.png'): can't open/read file: check file path/integrity\n",
      "[ WARN:0@708.199] global /io/opencv/modules/imgcodecs/src/loadsave.cpp (239) findDecoder imread_('/home/aaron/Desktop/Aaron/College-level_Applied_Research/GEI/075-00/10060.png'): can't open/read file: check file path/integrity\n",
      "[ WARN:0@708.199] global /io/opencv/modules/imgcodecs/src/loadsave.cpp (239) findDecoder imread_('/home/aaron/Desktop/Aaron/College-level_Applied_Research/GEI/075-00/10061.png'): can't open/read file: check file path/integrity\n"
     ]
    },
    {
     "name": "stderr",
     "output_type": "stream",
     "text": [
      "[ WARN:0@708.239] global /io/opencv/modules/imgcodecs/src/loadsave.cpp (239) findDecoder imread_('/home/aaron/Desktop/Aaron/College-level_Applied_Research/GEI/075-00/10073.png'): can't open/read file: check file path/integrity\n",
      "[ WARN:0@708.274] global /io/opencv/modules/imgcodecs/src/loadsave.cpp (239) findDecoder imread_('/home/aaron/Desktop/Aaron/College-level_Applied_Research/GEI/075-00/10086.png'): can't open/read file: check file path/integrity\n",
      "[ WARN:0@708.319] global /io/opencv/modules/imgcodecs/src/loadsave.cpp (239) findDecoder imread_('/home/aaron/Desktop/Aaron/College-level_Applied_Research/GEI/075-00/10102.png'): can't open/read file: check file path/integrity\n",
      "[ WARN:0@708.319] global /io/opencv/modules/imgcodecs/src/loadsave.cpp (239) findDecoder imread_('/home/aaron/Desktop/Aaron/College-level_Applied_Research/GEI/075-00/10103.png'): can't open/read file: check file path/integrity\n",
      "[ WARN:0@708.333] global /io/opencv/modules/imgcodecs/src/loadsave.cpp (239) findDecoder imread_('/home/aaron/Desktop/Aaron/College-level_Applied_Research/GEI/075-00/10109.png'): can't open/read file: check file path/integrity\n",
      "[ WARN:0@708.333] global /io/opencv/modules/imgcodecs/src/loadsave.cpp (239) findDecoder imread_('/home/aaron/Desktop/Aaron/College-level_Applied_Research/GEI/075-00/10110.png'): can't open/read file: check file path/integrity\n",
      "[ WARN:0@708.393] global /io/opencv/modules/imgcodecs/src/loadsave.cpp (239) findDecoder imread_('/home/aaron/Desktop/Aaron/College-level_Applied_Research/GEI/075-00/10132.png'): can't open/read file: check file path/integrity\n",
      "[ WARN:0@708.438] global /io/opencv/modules/imgcodecs/src/loadsave.cpp (239) findDecoder imread_('/home/aaron/Desktop/Aaron/College-level_Applied_Research/GEI/075-00/10148.png'): can't open/read file: check file path/integrity\n",
      "[ WARN:0@708.451] global /io/opencv/modules/imgcodecs/src/loadsave.cpp (239) findDecoder imread_('/home/aaron/Desktop/Aaron/College-level_Applied_Research/GEI/075-00/10153.png'): can't open/read file: check file path/integrity\n",
      "[ WARN:0@708.458] global /io/opencv/modules/imgcodecs/src/loadsave.cpp (239) findDecoder imread_('/home/aaron/Desktop/Aaron/College-level_Applied_Research/GEI/075-00/10157.png'): can't open/read file: check file path/integrity\n",
      "[ WARN:0@708.458] global /io/opencv/modules/imgcodecs/src/loadsave.cpp (239) findDecoder imread_('/home/aaron/Desktop/Aaron/College-level_Applied_Research/GEI/075-00/10158.png'): can't open/read file: check file path/integrity\n",
      "[ WARN:0@708.477] global /io/opencv/modules/imgcodecs/src/loadsave.cpp (239) findDecoder imread_('/home/aaron/Desktop/Aaron/College-level_Applied_Research/GEI/075-00/10166.png'): can't open/read file: check file path/integrity\n",
      "[ WARN:0@708.477] global /io/opencv/modules/imgcodecs/src/loadsave.cpp (239) findDecoder imread_('/home/aaron/Desktop/Aaron/College-level_Applied_Research/GEI/075-00/10167.png'): can't open/read file: check file path/integrity\n",
      "[ WARN:0@708.508] global /io/opencv/modules/imgcodecs/src/loadsave.cpp (239) findDecoder imread_('/home/aaron/Desktop/Aaron/College-level_Applied_Research/GEI/075-00/10180.png'): can't open/read file: check file path/integrity\n",
      "[ WARN:0@708.526] global /io/opencv/modules/imgcodecs/src/loadsave.cpp (239) findDecoder imread_('/home/aaron/Desktop/Aaron/College-level_Applied_Research/GEI/075-00/10188.png'): can't open/read file: check file path/integrity\n",
      "[ WARN:0@708.526] global /io/opencv/modules/imgcodecs/src/loadsave.cpp (239) findDecoder imread_('/home/aaron/Desktop/Aaron/College-level_Applied_Research/GEI/075-00/10189.png'): can't open/read file: check file path/integrity\n",
      "[ WARN:0@708.551] global /io/opencv/modules/imgcodecs/src/loadsave.cpp (239) findDecoder imread_('/home/aaron/Desktop/Aaron/College-level_Applied_Research/GEI/075-00/10200.png'): can't open/read file: check file path/integrity\n",
      "[ WARN:0@708.551] global /io/opencv/modules/imgcodecs/src/loadsave.cpp (239) findDecoder imread_('/home/aaron/Desktop/Aaron/College-level_Applied_Research/GEI/075-00/10201.png'): can't open/read file: check file path/integrity\n",
      "[ WARN:0@708.554] global /io/opencv/modules/imgcodecs/src/loadsave.cpp (239) findDecoder imread_('/home/aaron/Desktop/Aaron/College-level_Applied_Research/GEI/075-00/10203.png'): can't open/read file: check file path/integrity\n",
      "[ WARN:0@708.592] global /io/opencv/modules/imgcodecs/src/loadsave.cpp (239) findDecoder imread_('/home/aaron/Desktop/Aaron/College-level_Applied_Research/GEI/075-00/10219.png'): can't open/read file: check file path/integrity\n",
      "[ WARN:0@708.639] global /io/opencv/modules/imgcodecs/src/loadsave.cpp (239) findDecoder imread_('/home/aaron/Desktop/Aaron/College-level_Applied_Research/GEI/075-00/10238.png'): can't open/read file: check file path/integrity\n",
      "[ WARN:0@708.639] global /io/opencv/modules/imgcodecs/src/loadsave.cpp (239) findDecoder imread_('/home/aaron/Desktop/Aaron/College-level_Applied_Research/GEI/075-00/10239.png'): can't open/read file: check file path/integrity\n",
      "[ WARN:0@708.639] global /io/opencv/modules/imgcodecs/src/loadsave.cpp (239) findDecoder imread_('/home/aaron/Desktop/Aaron/College-level_Applied_Research/GEI/075-00/10240.png'): can't open/read file: check file path/integrity\n",
      "[ WARN:0@708.639] global /io/opencv/modules/imgcodecs/src/loadsave.cpp (239) findDecoder imread_('/home/aaron/Desktop/Aaron/College-level_Applied_Research/GEI/075-00/10241.png'): can't open/read file: check file path/integrity\n",
      "[ WARN:0@708.639] global /io/opencv/modules/imgcodecs/src/loadsave.cpp (239) findDecoder imread_('/home/aaron/Desktop/Aaron/College-level_Applied_Research/GEI/075-00/10242.png'): can't open/read file: check file path/integrity\n",
      "[ WARN:0@708.642] global /io/opencv/modules/imgcodecs/src/loadsave.cpp (239) findDecoder imread_('/home/aaron/Desktop/Aaron/College-level_Applied_Research/GEI/075-00/10244.png'): can't open/read file: check file path/integrity\n",
      "[ WARN:0@708.642] global /io/opencv/modules/imgcodecs/src/loadsave.cpp (239) findDecoder imread_('/home/aaron/Desktop/Aaron/College-level_Applied_Research/GEI/075-00/10245.png'): can't open/read file: check file path/integrity\n",
      "[ WARN:0@708.642] global /io/opencv/modules/imgcodecs/src/loadsave.cpp (239) findDecoder imread_('/home/aaron/Desktop/Aaron/College-level_Applied_Research/GEI/075-00/10246.png'): can't open/read file: check file path/integrity\n",
      "[ WARN:0@708.657] global /io/opencv/modules/imgcodecs/src/loadsave.cpp (239) findDecoder imread_('/home/aaron/Desktop/Aaron/College-level_Applied_Research/GEI/075-00/10252.png'): can't open/read file: check file path/integrity\n",
      "[ WARN:0@708.662] global /io/opencv/modules/imgcodecs/src/loadsave.cpp (239) findDecoder imread_('/home/aaron/Desktop/Aaron/College-level_Applied_Research/GEI/075-00/10254.png'): can't open/read file: check file path/integrity\n",
      "[ WARN:0@708.662] global /io/opencv/modules/imgcodecs/src/loadsave.cpp (239) findDecoder imread_('/home/aaron/Desktop/Aaron/College-level_Applied_Research/GEI/075-00/10255.png'): can't open/read file: check file path/integrity\n",
      "[ WARN:0@708.702] global /io/opencv/modules/imgcodecs/src/loadsave.cpp (239) findDecoder imread_('/home/aaron/Desktop/Aaron/College-level_Applied_Research/GEI/075-00/10267.png'): can't open/read file: check file path/integrity\n",
      "[ WARN:0@708.702] global /io/opencv/modules/imgcodecs/src/loadsave.cpp (239) findDecoder imread_('/home/aaron/Desktop/Aaron/College-level_Applied_Research/GEI/075-00/10268.png'): can't open/read file: check file path/integrity\n",
      "[ WARN:0@708.729] global /io/opencv/modules/imgcodecs/src/loadsave.cpp (239) findDecoder imread_('/home/aaron/Desktop/Aaron/College-level_Applied_Research/GEI/075-00/10280.png'): can't open/read file: check file path/integrity\n",
      "[ WARN:0@708.735] global /io/opencv/modules/imgcodecs/src/loadsave.cpp (239) findDecoder imread_('/home/aaron/Desktop/Aaron/College-level_Applied_Research/GEI/075-00/10283.png'): can't open/read file: check file path/integrity\n",
      "[ WARN:0@708.735] global /io/opencv/modules/imgcodecs/src/loadsave.cpp (239) findDecoder imread_('/home/aaron/Desktop/Aaron/College-level_Applied_Research/GEI/075-00/10284.png'): can't open/read file: check file path/integrity\n",
      "[ WARN:0@708.741] global /io/opencv/modules/imgcodecs/src/loadsave.cpp (239) findDecoder imread_('/home/aaron/Desktop/Aaron/College-level_Applied_Research/GEI/075-00/10287.png'): can't open/read file: check file path/integrity\n",
      "[ WARN:0@708.764] global /io/opencv/modules/imgcodecs/src/loadsave.cpp (239) findDecoder imread_('/home/aaron/Desktop/Aaron/College-level_Applied_Research/GEI/075-00/10297.png'): can't open/read file: check file path/integrity\n",
      "[ WARN:0@708.767] global /io/opencv/modules/imgcodecs/src/loadsave.cpp (239) findDecoder imread_('/home/aaron/Desktop/Aaron/College-level_Applied_Research/GEI/075-00/10299.png'): can't open/read file: check file path/integrity\n",
      "[ WARN:0@708.785] global /io/opencv/modules/imgcodecs/src/loadsave.cpp (239) findDecoder imread_('/home/aaron/Desktop/Aaron/College-level_Applied_Research/GEI/075-00/10307.png'): can't open/read file: check file path/integrity\n"
     ]
    }
   ],
   "source": [
    "phase = '00'\n",
    "angle = '075'\n",
    "# @measureExcutionTime\n",
    "def encoding(GEI):\n",
    "    GEI_embedding = gait_model(GEI.reshape(1, 128, 88, 3)).numpy()\n",
    "    return GEI_embedding\n",
    "total_GEI = {}\n",
    "\n",
    "for i in file_names:\n",
    "    GEI = cv2.imread(f'/home/aaron/Desktop/Aaron/College-level_Applied_Research/GEI/{angle}-{phase}/{i}.png')\n",
    "    \n",
    "    if GEI is not None:\n",
    "        GEI = GEI / 255.\n",
    "        GEI_embedding = encoding(GEI)\n",
    "        total_GEI[i] = GEI_embedding"
   ]
  },
  {
   "cell_type": "code",
   "execution_count": 28,
   "id": "2d9f2f15",
   "metadata": {},
   "outputs": [],
   "source": [
    "def euclidean_distance(v1, v2):\n",
    "    return (np.sum((v1-v2)**2))**0.5"
   ]
  },
  {
   "cell_type": "code",
   "execution_count": 29,
   "id": "b3d3cef2",
   "metadata": {},
   "outputs": [],
   "source": [
    "def random_sample_target_GEI_embedding():\n",
    "    phase = '01'\n",
    "    angle = '075'\n",
    "    target_GEI = None\n",
    "    while target_GEI is None:\n",
    "        target_id = random.sample(file_names, 1)[0]\n",
    "        target_GEI = cv2.imread(f'/home/aaron/Desktop/Aaron/College-level_Applied_Research/GEI/{angle}-{phase}/{target_id}.png')\n",
    "    target_GEI = target_GEI / 255.\n",
    "    target_GEI_embedding = gait_model(target_GEI.reshape(1, 128, 88, 3)).numpy()\n",
    "    return target_id, target_GEI_embedding"
   ]
  },
  {
   "cell_type": "code",
   "execution_count": null,
   "id": "2c7ff5fe",
   "metadata": {},
   "outputs": [
    {
     "name": "stderr",
     "output_type": "stream",
     "text": [
      "[ WARN:0@709.289] global /io/opencv/modules/imgcodecs/src/loadsave.cpp (239) findDecoder imread_('/home/aaron/Desktop/Aaron/College-level_Applied_Research/GEI/075-01/09441.png'): can't open/read file: check file path/integrity\n",
      "[ WARN:0@711.038] global /io/opencv/modules/imgcodecs/src/loadsave.cpp (239) findDecoder imread_('/home/aaron/Desktop/Aaron/College-level_Applied_Research/GEI/075-01/05429.png'): can't open/read file: check file path/integrity\n",
      "[ WARN:0@711.356] global /io/opencv/modules/imgcodecs/src/loadsave.cpp (239) findDecoder imread_('/home/aaron/Desktop/Aaron/College-level_Applied_Research/GEI/075-01/10239.png'): can't open/read file: check file path/integrity\n"
     ]
    },
    {
     "name": "stdout",
     "output_type": "stream",
     "text": [
      "Accuracy: 87%\n"
     ]
    },
    {
     "name": "stderr",
     "output_type": "stream",
     "text": [
      "[ WARN:0@714.908] global /io/opencv/modules/imgcodecs/src/loadsave.cpp (239) findDecoder imread_('/home/aaron/Desktop/Aaron/College-level_Applied_Research/GEI/075-01/03678.png'): can't open/read file: check file path/integrity\n"
     ]
    },
    {
     "name": "stdout",
     "output_type": "stream",
     "text": [
      "Accuracy: 80%\n"
     ]
    },
    {
     "name": "stderr",
     "output_type": "stream",
     "text": [
      "[ WARN:0@717.278] global /io/opencv/modules/imgcodecs/src/loadsave.cpp (239) findDecoder imread_('/home/aaron/Desktop/Aaron/College-level_Applied_Research/GEI/075-01/10203.png'): can't open/read file: check file path/integrity\n"
     ]
    }
   ],
   "source": [
    "\n",
    "acc_list = []\n",
    "for t in range(10):\n",
    "    count = 0\n",
    "    for i in range(100):\n",
    "        recog = None\n",
    "        min_distance = 1e+10\n",
    "\n",
    "        target_id, target_GEI_embedding = random_sample_target_GEI_embedding()\n",
    "        for k, v in total_GEI.items():\n",
    "            distance = euclidean_distance(target_GEI_embedding, v)\n",
    "            if min_distance > distance:\n",
    "                min_distance = distance\n",
    "                recog = k\n",
    "        if target_id == recog:\n",
    "            count += 1\n",
    "    acc_list.append(count)\n",
    "    print(f'Accuracy: {count}%')    \n",
    "average_acc = sum(acc_list) / len(acc_list)\n",
    "print(f'Average Acc.: {average_acc}%')"
   ]
  },
  {
   "cell_type": "code",
   "execution_count": null,
   "id": "97179ae3",
   "metadata": {},
   "outputs": [],
   "source": []
  },
  {
   "cell_type": "code",
   "execution_count": null,
   "id": "01902750",
   "metadata": {},
   "outputs": [],
   "source": []
  },
  {
   "cell_type": "code",
   "execution_count": 3,
   "id": "b2cc58f0",
   "metadata": {
    "scrolled": false
   },
   "outputs": [
    {
     "name": "stdout",
     "output_type": "stream",
     "text": [
      "['08326', '09882', '05768', '05783', '04526', '05695', '07595', '07007']\n",
      "1:  04526\n"
     ]
    },
    {
     "name": "stderr",
     "output_type": "stream",
     "text": [
      "[ WARN:0@103.318] global /io/opencv/modules/imgcodecs/src/loadsave.cpp (239) findDecoder imread_('/home/aaron/Desktop/Aaron/College-level_Applied_Research/GEI/090-01/04526.png'): can't open/read file: check file path/integrity\n"
     ]
    },
    {
     "ename": "TypeError",
     "evalue": "unsupported operand type(s) for -: 'NoneType' and 'float'",
     "output_type": "error",
     "traceback": [
      "\u001b[0;31m---------------------------------------------------------------------------\u001b[0m",
      "\u001b[0;31mTypeError\u001b[0m                                 Traceback (most recent call last)",
      "Input \u001b[0;32mIn [3]\u001b[0m, in \u001b[0;36m<cell line: 5>\u001b[0;34m()\u001b[0m\n\u001b[1;32m     10\u001b[0m \u001b[38;5;28;01mif\u001b[39;00m img2 \u001b[38;5;129;01mis\u001b[39;00m \u001b[38;5;28;01mNone\u001b[39;00m:\n\u001b[1;32m     11\u001b[0m     \u001b[38;5;28mprint\u001b[39m(\u001b[38;5;124m'\u001b[39m\u001b[38;5;124m2: \u001b[39m\u001b[38;5;124m'\u001b[39m, name)\n\u001b[0;32m---> 12\u001b[0m img1 \u001b[38;5;241m=\u001b[39m (\u001b[43mimg1\u001b[49m\u001b[38;5;241;43m-\u001b[39;49m\u001b[38;5;241;43m127.5\u001b[39;49m)\u001b[38;5;241m/\u001b[39m\u001b[38;5;241m127.5\u001b[39m\n\u001b[1;32m     13\u001b[0m img2 \u001b[38;5;241m=\u001b[39m (img2\u001b[38;5;241m-\u001b[39m\u001b[38;5;241m127.5\u001b[39m)\u001b[38;5;241m/\u001b[39m\u001b[38;5;241m127.5\u001b[39m\n\u001b[1;32m     15\u001b[0m image_list1[i] \u001b[38;5;241m=\u001b[39m img1\n",
      "\u001b[0;31mTypeError\u001b[0m: unsupported operand type(s) for -: 'NoneType' and 'float'"
     ]
    }
   ],
   "source": [
    "file_names = [str(random.randint(1, 10308)).zfill(5) for i in range(8)]\n",
    "image_list1 = np.zeros((8, 128, 88, 3))\n",
    "image_list2 = np.zeros((8, 128, 88, 3))\n",
    "print(file_names)\n",
    "for i, name in enumerate(file_names):\n",
    "    img1 = cv2.imread(f'/home/aaron/Desktop/Aaron/College-level_Applied_Research/GEI/090-01/{name}.png')\n",
    "    img2 = cv2.imread(f'/home/aaron/Desktop/Aaron/College-level_Applied_Research/GEI/030-01/{name}.png')\n",
    "    if img1 is None:\n",
    "        print('1: ', name)\n",
    "    if img2 is None:\n",
    "        print('2: ', name)\n",
    "    img1 = (img1-127.5)/127.5\n",
    "    img2 = (img2-127.5)/127.5\n",
    "    \n",
    "    image_list1[i] = img1\n",
    "    image_list2[i] = img2"
   ]
  },
  {
   "cell_type": "code",
   "execution_count": 84,
   "id": "13ba78bd",
   "metadata": {},
   "outputs": [
    {
     "data": {
      "text/plain": [
       "['01594', '06779', '10170', '09154', '05570', '04098', '03120', '07834']"
      ]
     },
     "execution_count": 84,
     "metadata": {},
     "output_type": "execute_result"
    }
   ],
   "source": [
    "file_names"
   ]
  },
  {
   "cell_type": "code",
   "execution_count": 85,
   "id": "26150a01",
   "metadata": {},
   "outputs": [],
   "source": [
    "# file_names[-2] = file_names[-1]\n",
    "file_names[1] = file_names[2]  "
   ]
  },
  {
   "cell_type": "code",
   "execution_count": 86,
   "id": "2ef08169",
   "metadata": {},
   "outputs": [],
   "source": [
    "embeddings1 = model(image_list1).numpy()\n",
    "embeddings2 = model(image_list2).numpy()"
   ]
  },
  {
   "cell_type": "code",
   "execution_count": 87,
   "id": "2514da2b",
   "metadata": {},
   "outputs": [
    {
     "data": {
      "text/plain": [
       "array([[  5.0081425 ,   7.527439  ,  -7.6025896 , ...,  -0.2344679 ,\n",
       "          5.362405  ,   2.821217  ],\n",
       "       [  0.28373265,  10.166183  ,  -4.7026176 , ...,  -1.4072145 ,\n",
       "          4.4099317 ,   2.7005177 ],\n",
       "       [  2.8766582 ,   8.207982  ,  -7.7678347 , ...,  -1.3307458 ,\n",
       "          0.30927542,  -1.4374608 ],\n",
       "       ...,\n",
       "       [  5.5946884 ,   7.3029976 ,  -7.873669  , ...,  -0.30615833,\n",
       "          4.222553  ,   4.1383348 ],\n",
       "       [  4.4450293 ,   9.766668  , -11.905111  , ...,   2.7422938 ,\n",
       "          5.212977  ,   5.2739215 ],\n",
       "       [  3.1315448 ,   9.581806  ,  -5.871356  , ...,   2.62989   ,\n",
       "          5.557616  ,   7.2878194 ]], dtype=float32)"
      ]
     },
     "execution_count": 87,
     "metadata": {},
     "output_type": "execute_result"
    }
   ],
   "source": [
    "embeddings1"
   ]
  },
  {
   "cell_type": "code",
   "execution_count": 88,
   "id": "f9a8fe10",
   "metadata": {},
   "outputs": [
    {
     "data": {
      "text/plain": [
       "(8, 1024)"
      ]
     },
     "execution_count": 88,
     "metadata": {},
     "output_type": "execute_result"
    }
   ],
   "source": [
    "embeddings2.shape"
   ]
  },
  {
   "cell_type": "code",
   "execution_count": 89,
   "id": "07f92545",
   "metadata": {},
   "outputs": [
    {
     "data": {
      "text/plain": [
       "array([ 1594., 10170., 10170.,  9154.,  5570.,  4098.,  3120.,  7834.],\n",
       "      dtype=float32)"
      ]
     },
     "execution_count": 89,
     "metadata": {},
     "output_type": "execute_result"
    }
   ],
   "source": [
    "np.array(file_names).astype(np.float32)"
   ]
  },
  {
   "cell_type": "code",
   "execution_count": 90,
   "id": "2ee9d67e",
   "metadata": {},
   "outputs": [],
   "source": [
    "def E_distance(v1, v2):\n",
    "    return (np.sum((v1-v2)**2))**0.5"
   ]
  },
  {
   "cell_type": "code",
   "execution_count": 91,
   "id": "7e1baf84",
   "metadata": {},
   "outputs": [
    {
     "name": "stdout",
     "output_type": "stream",
     "text": [
      "111.88262892982985\n",
      "118.91918868500575\n",
      "130.51767421023868\n",
      "99.57147440720661\n",
      "118.71273263902656\n",
      "120.50658857765828\n",
      "121.226721347853\n",
      "38.273589794808245\n"
     ]
    }
   ],
   "source": [
    "for i in range(len(embeddings1)):\n",
    "    print(E_distance(embeddings2[-1], embeddings1[i]))"
   ]
  },
  {
   "cell_type": "code",
   "execution_count": null,
   "id": "ed98cbe5",
   "metadata": {},
   "outputs": [],
   "source": []
  }
 ],
 "metadata": {
  "kernelspec": {
   "display_name": "Python 3 (ipykernel)",
   "language": "python",
   "name": "python3"
  },
  "language_info": {
   "codemirror_mode": {
    "name": "ipython",
    "version": 3
   },
   "file_extension": ".py",
   "mimetype": "text/x-python",
   "name": "python",
   "nbconvert_exporter": "python",
   "pygments_lexer": "ipython3",
   "version": "3.8.13"
  }
 },
 "nbformat": 4,
 "nbformat_minor": 5
}
